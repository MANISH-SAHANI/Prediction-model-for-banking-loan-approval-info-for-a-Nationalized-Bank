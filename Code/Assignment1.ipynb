{
 "cells": [
  {
   "cell_type": "code",
   "execution_count": 71,
   "id": "859b580f",
   "metadata": {},
   "outputs": [],
   "source": [
    "import pandas as pd\n",
    "import numpy as np\n",
    "import matplotlib.pyplot as plt\n",
    "import seaborn as sns\n",
    "\n",
    "from sklearn.metrics import accuracy_score, confusion_matrix\n",
    "from sklearn.ensemble import RandomForestClassifier\n",
    "import xgboost as xgb\n",
    "from sklearn import svm, tree\n",
    "from sklearn.metrics import accuracy_score\n",
    "from sklearn.model_selection import train_test_split\n",
    "from sklearn.linear_model import LogisticRegression\n",
    "\n",
    "import xgboost"
   ]
  },
  {
   "cell_type": "code",
   "execution_count": 72,
   "id": "300f279e",
   "metadata": {},
   "outputs": [],
   "source": [
    "df = pd.read_csv(\"../DataSet/Dataset.csv\")"
   ]
  },
  {
   "cell_type": "code",
   "execution_count": 5,
   "id": "fa97eed0",
   "metadata": {},
   "outputs": [
    {
     "data": {
      "text/html": [
       "<div>\n",
       "<style scoped>\n",
       "    .dataframe tbody tr th:only-of-type {\n",
       "        vertical-align: middle;\n",
       "    }\n",
       "\n",
       "    .dataframe tbody tr th {\n",
       "        vertical-align: top;\n",
       "    }\n",
       "\n",
       "    .dataframe thead th {\n",
       "        text-align: right;\n",
       "    }\n",
       "</style>\n",
       "<table border=\"1\" class=\"dataframe\">\n",
       "  <thead>\n",
       "    <tr style=\"text-align: right;\">\n",
       "      <th></th>\n",
       "      <th>APP_ID</th>\n",
       "      <th>CIBIL_SCORE_VALUE</th>\n",
       "      <th>NEW_CUST</th>\n",
       "      <th>CUS_CATGCODE</th>\n",
       "      <th>EMPLOYMENT_TYPE</th>\n",
       "      <th>AGE</th>\n",
       "      <th>SEX</th>\n",
       "      <th>NO_OF_DEPENDENTS</th>\n",
       "      <th>MARITAL</th>\n",
       "      <th>EDU_QUA</th>\n",
       "      <th>P_RESTYPE</th>\n",
       "      <th>P_CATEGORY</th>\n",
       "      <th>EMPLOYEE_TYPE</th>\n",
       "      <th>MON_IN_OCC</th>\n",
       "      <th>INCOM_EXP_GMI</th>\n",
       "      <th>LTV</th>\n",
       "      <th>TENURE</th>\n",
       "      <th>STATUS</th>\n",
       "    </tr>\n",
       "  </thead>\n",
       "  <tbody>\n",
       "    <tr>\n",
       "      <th>0</th>\n",
       "      <td>12345</td>\n",
       "      <td>0</td>\n",
       "      <td>YES</td>\n",
       "      <td>1</td>\n",
       "      <td>0</td>\n",
       "      <td>31</td>\n",
       "      <td>F</td>\n",
       "      <td>3</td>\n",
       "      <td>0</td>\n",
       "      <td>0</td>\n",
       "      <td>1</td>\n",
       "      <td>4</td>\n",
       "      <td>2</td>\n",
       "      <td>36</td>\n",
       "      <td>0</td>\n",
       "      <td>0.767104</td>\n",
       "      <td>12</td>\n",
       "      <td>0</td>\n",
       "    </tr>\n",
       "    <tr>\n",
       "      <th>1</th>\n",
       "      <td>12347</td>\n",
       "      <td>0</td>\n",
       "      <td>NO</td>\n",
       "      <td>1</td>\n",
       "      <td>1</td>\n",
       "      <td>40</td>\n",
       "      <td>F</td>\n",
       "      <td>2</td>\n",
       "      <td>1</td>\n",
       "      <td>1</td>\n",
       "      <td>0</td>\n",
       "      <td>1</td>\n",
       "      <td>1</td>\n",
       "      <td>12</td>\n",
       "      <td>2</td>\n",
       "      <td>0.619077</td>\n",
       "      <td>24</td>\n",
       "      <td>0</td>\n",
       "    </tr>\n",
       "    <tr>\n",
       "      <th>2</th>\n",
       "      <td>12349</td>\n",
       "      <td>0</td>\n",
       "      <td>YES</td>\n",
       "      <td>1</td>\n",
       "      <td>0</td>\n",
       "      <td>27</td>\n",
       "      <td>F</td>\n",
       "      <td>3</td>\n",
       "      <td>0</td>\n",
       "      <td>0</td>\n",
       "      <td>1</td>\n",
       "      <td>2</td>\n",
       "      <td>2</td>\n",
       "      <td>72</td>\n",
       "      <td>0</td>\n",
       "      <td>0.848949</td>\n",
       "      <td>36</td>\n",
       "      <td>0</td>\n",
       "    </tr>\n",
       "    <tr>\n",
       "      <th>3</th>\n",
       "      <td>12351</td>\n",
       "      <td>2</td>\n",
       "      <td>NO</td>\n",
       "      <td>1</td>\n",
       "      <td>1</td>\n",
       "      <td>33</td>\n",
       "      <td>M</td>\n",
       "      <td>2</td>\n",
       "      <td>0</td>\n",
       "      <td>1</td>\n",
       "      <td>0</td>\n",
       "      <td>2</td>\n",
       "      <td>1</td>\n",
       "      <td>120</td>\n",
       "      <td>1</td>\n",
       "      <td>0.515646</td>\n",
       "      <td>12</td>\n",
       "      <td>0</td>\n",
       "    </tr>\n",
       "    <tr>\n",
       "      <th>4</th>\n",
       "      <td>12353</td>\n",
       "      <td>2</td>\n",
       "      <td>NO</td>\n",
       "      <td>1</td>\n",
       "      <td>1</td>\n",
       "      <td>29</td>\n",
       "      <td>F</td>\n",
       "      <td>1</td>\n",
       "      <td>0</td>\n",
       "      <td>1</td>\n",
       "      <td>1</td>\n",
       "      <td>2</td>\n",
       "      <td>1</td>\n",
       "      <td>24</td>\n",
       "      <td>2</td>\n",
       "      <td>0.614123</td>\n",
       "      <td>24</td>\n",
       "      <td>1</td>\n",
       "    </tr>\n",
       "  </tbody>\n",
       "</table>\n",
       "</div>"
      ],
      "text/plain": [
       "   APP_ID   CIBIL_SCORE_VALUE  NEW_CUST  CUS_CATGCODE    EMPLOYMENT_TYPE   \\\n",
       "0   12345                    0      YES              1                  0   \n",
       "1   12347                    0       NO              1                  1   \n",
       "2   12349                    0      YES              1                  0   \n",
       "3   12351                    2       NO              1                  1   \n",
       "4   12353                    2       NO              1                  1   \n",
       "\n",
       "   AGE  SEX     NO_OF_DEPENDENTS    MARITAL    EDU_QUA    P_RESTYPE   \\\n",
       "0   31      F                   3          0         0             1   \n",
       "1   40      F                   2          1         1             0   \n",
       "2   27      F                   3          0         0             1   \n",
       "3   33      M                   2          0         1             0   \n",
       "4   29      F                   1          0         1             1   \n",
       "\n",
       "    P_CATEGORY    EMPLOYEE_TYPE     MON_IN_OCC    INCOM_EXP_GMI        LTV  \\\n",
       "0             4                2             36                0  0.767104   \n",
       "1             1                1             12                2  0.619077   \n",
       "2             2                2             72                0  0.848949   \n",
       "3             2                1            120                1  0.515646   \n",
       "4             2                1             24                2  0.614123   \n",
       "\n",
       "    TENURE   STATUS  \n",
       "0        12       0  \n",
       "1        24       0  \n",
       "2        36       0  \n",
       "3        12       0  \n",
       "4        24       1  "
      ]
     },
     "execution_count": 5,
     "metadata": {},
     "output_type": "execute_result"
    }
   ],
   "source": [
    "df.head(5)"
   ]
  },
  {
   "cell_type": "code",
   "execution_count": 6,
   "id": "be817df2",
   "metadata": {},
   "outputs": [],
   "source": [
    "#stripping the column names of white space\n",
    "df.columns = df.columns.str.replace(' ','')"
   ]
  },
  {
   "cell_type": "code",
   "execution_count": 7,
   "id": "581131c8",
   "metadata": {},
   "outputs": [
    {
     "name": "stdout",
     "output_type": "stream",
     "text": [
      "<class 'pandas.core.frame.DataFrame'>\n",
      "RangeIndex: 13299 entries, 0 to 13298\n",
      "Data columns (total 18 columns):\n",
      " #   Column             Non-Null Count  Dtype  \n",
      "---  ------             --------------  -----  \n",
      " 0   APP_ID             13299 non-null  int64  \n",
      " 1   CIBIL_SCORE_VALUE  13299 non-null  int64  \n",
      " 2   NEW_CUST           13299 non-null  object \n",
      " 3   CUS_CATGCODE       13299 non-null  int64  \n",
      " 4   EMPLOYMENT_TYPE    13299 non-null  int64  \n",
      " 5   AGE                13299 non-null  int64  \n",
      " 6   SEX                13299 non-null  object \n",
      " 7   NO_OF_DEPENDENTS   13299 non-null  int64  \n",
      " 8   MARITAL            13299 non-null  int64  \n",
      " 9   EDU_QUA            13299 non-null  int64  \n",
      " 10  P_RESTYPE          13299 non-null  int64  \n",
      " 11  P_CATEGORY         13299 non-null  int64  \n",
      " 12  EMPLOYEE_TYPE      13299 non-null  int64  \n",
      " 13  MON_IN_OCC         13299 non-null  int64  \n",
      " 14  INCOM_EXP_GMI      13299 non-null  int64  \n",
      " 15  LTV                13299 non-null  float64\n",
      " 16  TENURE             13299 non-null  int64  \n",
      " 17  STATUS             13299 non-null  int64  \n",
      "dtypes: float64(1), int64(15), object(2)\n",
      "memory usage: 1.8+ MB\n"
     ]
    }
   ],
   "source": [
    "df.info()"
   ]
  },
  {
   "cell_type": "code",
   "execution_count": 8,
   "id": "f6e62826",
   "metadata": {},
   "outputs": [
    {
     "data": {
      "text/html": [
       "<div>\n",
       "<style scoped>\n",
       "    .dataframe tbody tr th:only-of-type {\n",
       "        vertical-align: middle;\n",
       "    }\n",
       "\n",
       "    .dataframe tbody tr th {\n",
       "        vertical-align: top;\n",
       "    }\n",
       "\n",
       "    .dataframe thead th {\n",
       "        text-align: right;\n",
       "    }\n",
       "</style>\n",
       "<table border=\"1\" class=\"dataframe\">\n",
       "  <thead>\n",
       "    <tr style=\"text-align: right;\">\n",
       "      <th></th>\n",
       "      <th>APP_ID</th>\n",
       "      <th>CIBIL_SCORE_VALUE</th>\n",
       "      <th>CUS_CATGCODE</th>\n",
       "      <th>EMPLOYMENT_TYPE</th>\n",
       "      <th>AGE</th>\n",
       "      <th>NO_OF_DEPENDENTS</th>\n",
       "      <th>MARITAL</th>\n",
       "      <th>EDU_QUA</th>\n",
       "      <th>P_RESTYPE</th>\n",
       "      <th>P_CATEGORY</th>\n",
       "      <th>EMPLOYEE_TYPE</th>\n",
       "      <th>MON_IN_OCC</th>\n",
       "      <th>INCOM_EXP_GMI</th>\n",
       "      <th>LTV</th>\n",
       "      <th>TENURE</th>\n",
       "      <th>STATUS</th>\n",
       "    </tr>\n",
       "  </thead>\n",
       "  <tbody>\n",
       "    <tr>\n",
       "      <th>count</th>\n",
       "      <td>13299.0000</td>\n",
       "      <td>13299.000000</td>\n",
       "      <td>13299.000000</td>\n",
       "      <td>13299.000000</td>\n",
       "      <td>13299.000000</td>\n",
       "      <td>13299.000000</td>\n",
       "      <td>13299.000000</td>\n",
       "      <td>13299.000000</td>\n",
       "      <td>13299.000000</td>\n",
       "      <td>13299.000000</td>\n",
       "      <td>13299.000000</td>\n",
       "      <td>13299.000000</td>\n",
       "      <td>13299.000000</td>\n",
       "      <td>13299.000000</td>\n",
       "      <td>13299.000000</td>\n",
       "      <td>13299.000000</td>\n",
       "    </tr>\n",
       "    <tr>\n",
       "      <th>mean</th>\n",
       "      <td>25643.0000</td>\n",
       "      <td>1.037898</td>\n",
       "      <td>0.908640</td>\n",
       "      <td>0.658922</td>\n",
       "      <td>32.473870</td>\n",
       "      <td>1.536281</td>\n",
       "      <td>0.590044</td>\n",
       "      <td>0.485149</td>\n",
       "      <td>0.427175</td>\n",
       "      <td>2.340778</td>\n",
       "      <td>0.833371</td>\n",
       "      <td>74.508760</td>\n",
       "      <td>0.751259</td>\n",
       "      <td>0.776054</td>\n",
       "      <td>24.792240</td>\n",
       "      <td>0.377171</td>\n",
       "    </tr>\n",
       "    <tr>\n",
       "      <th>std</th>\n",
       "      <td>7678.4699</td>\n",
       "      <td>0.865391</td>\n",
       "      <td>0.288132</td>\n",
       "      <td>0.474089</td>\n",
       "      <td>8.804317</td>\n",
       "      <td>0.971671</td>\n",
       "      <td>0.491844</td>\n",
       "      <td>0.499798</td>\n",
       "      <td>0.727715</td>\n",
       "      <td>1.341674</td>\n",
       "      <td>0.553415</td>\n",
       "      <td>72.971951</td>\n",
       "      <td>0.938441</td>\n",
       "      <td>0.126130</td>\n",
       "      <td>7.501085</td>\n",
       "      <td>0.484697</td>\n",
       "    </tr>\n",
       "    <tr>\n",
       "      <th>min</th>\n",
       "      <td>12345.0000</td>\n",
       "      <td>0.000000</td>\n",
       "      <td>0.000000</td>\n",
       "      <td>0.000000</td>\n",
       "      <td>18.000000</td>\n",
       "      <td>0.000000</td>\n",
       "      <td>0.000000</td>\n",
       "      <td>0.000000</td>\n",
       "      <td>0.000000</td>\n",
       "      <td>1.000000</td>\n",
       "      <td>0.000000</td>\n",
       "      <td>1.000000</td>\n",
       "      <td>0.000000</td>\n",
       "      <td>0.007508</td>\n",
       "      <td>12.000000</td>\n",
       "      <td>0.000000</td>\n",
       "    </tr>\n",
       "    <tr>\n",
       "      <th>25%</th>\n",
       "      <td>18994.0000</td>\n",
       "      <td>0.000000</td>\n",
       "      <td>1.000000</td>\n",
       "      <td>0.000000</td>\n",
       "      <td>25.000000</td>\n",
       "      <td>1.000000</td>\n",
       "      <td>0.000000</td>\n",
       "      <td>0.000000</td>\n",
       "      <td>0.000000</td>\n",
       "      <td>1.000000</td>\n",
       "      <td>0.000000</td>\n",
       "      <td>24.000000</td>\n",
       "      <td>0.000000</td>\n",
       "      <td>0.719710</td>\n",
       "      <td>18.000000</td>\n",
       "      <td>0.000000</td>\n",
       "    </tr>\n",
       "    <tr>\n",
       "      <th>50%</th>\n",
       "      <td>25643.0000</td>\n",
       "      <td>1.000000</td>\n",
       "      <td>1.000000</td>\n",
       "      <td>1.000000</td>\n",
       "      <td>31.000000</td>\n",
       "      <td>2.000000</td>\n",
       "      <td>1.000000</td>\n",
       "      <td>0.000000</td>\n",
       "      <td>0.000000</td>\n",
       "      <td>2.000000</td>\n",
       "      <td>1.000000</td>\n",
       "      <td>48.000000</td>\n",
       "      <td>0.000000</td>\n",
       "      <td>0.807537</td>\n",
       "      <td>24.000000</td>\n",
       "      <td>0.000000</td>\n",
       "    </tr>\n",
       "    <tr>\n",
       "      <th>75%</th>\n",
       "      <td>32292.0000</td>\n",
       "      <td>2.000000</td>\n",
       "      <td>1.000000</td>\n",
       "      <td>1.000000</td>\n",
       "      <td>38.000000</td>\n",
       "      <td>2.000000</td>\n",
       "      <td>1.000000</td>\n",
       "      <td>1.000000</td>\n",
       "      <td>1.000000</td>\n",
       "      <td>4.000000</td>\n",
       "      <td>1.000000</td>\n",
       "      <td>100.000000</td>\n",
       "      <td>1.000000</td>\n",
       "      <td>0.849177</td>\n",
       "      <td>36.000000</td>\n",
       "      <td>1.000000</td>\n",
       "    </tr>\n",
       "    <tr>\n",
       "      <th>max</th>\n",
       "      <td>38941.0000</td>\n",
       "      <td>2.000000</td>\n",
       "      <td>1.000000</td>\n",
       "      <td>1.000000</td>\n",
       "      <td>55.000000</td>\n",
       "      <td>3.000000</td>\n",
       "      <td>1.000000</td>\n",
       "      <td>1.000000</td>\n",
       "      <td>2.000000</td>\n",
       "      <td>4.000000</td>\n",
       "      <td>2.000000</td>\n",
       "      <td>398.000000</td>\n",
       "      <td>3.000000</td>\n",
       "      <td>1.000000</td>\n",
       "      <td>36.000000</td>\n",
       "      <td>1.000000</td>\n",
       "    </tr>\n",
       "  </tbody>\n",
       "</table>\n",
       "</div>"
      ],
      "text/plain": [
       "           APP_ID  CIBIL_SCORE_VALUE  CUS_CATGCODE  EMPLOYMENT_TYPE  \\\n",
       "count  13299.0000       13299.000000  13299.000000     13299.000000   \n",
       "mean   25643.0000           1.037898      0.908640         0.658922   \n",
       "std     7678.4699           0.865391      0.288132         0.474089   \n",
       "min    12345.0000           0.000000      0.000000         0.000000   \n",
       "25%    18994.0000           0.000000      1.000000         0.000000   \n",
       "50%    25643.0000           1.000000      1.000000         1.000000   \n",
       "75%    32292.0000           2.000000      1.000000         1.000000   \n",
       "max    38941.0000           2.000000      1.000000         1.000000   \n",
       "\n",
       "                AGE  NO_OF_DEPENDENTS       MARITAL       EDU_QUA  \\\n",
       "count  13299.000000      13299.000000  13299.000000  13299.000000   \n",
       "mean      32.473870          1.536281      0.590044      0.485149   \n",
       "std        8.804317          0.971671      0.491844      0.499798   \n",
       "min       18.000000          0.000000      0.000000      0.000000   \n",
       "25%       25.000000          1.000000      0.000000      0.000000   \n",
       "50%       31.000000          2.000000      1.000000      0.000000   \n",
       "75%       38.000000          2.000000      1.000000      1.000000   \n",
       "max       55.000000          3.000000      1.000000      1.000000   \n",
       "\n",
       "          P_RESTYPE    P_CATEGORY  EMPLOYEE_TYPE    MON_IN_OCC  INCOM_EXP_GMI  \\\n",
       "count  13299.000000  13299.000000   13299.000000  13299.000000   13299.000000   \n",
       "mean       0.427175      2.340778       0.833371     74.508760       0.751259   \n",
       "std        0.727715      1.341674       0.553415     72.971951       0.938441   \n",
       "min        0.000000      1.000000       0.000000      1.000000       0.000000   \n",
       "25%        0.000000      1.000000       0.000000     24.000000       0.000000   \n",
       "50%        0.000000      2.000000       1.000000     48.000000       0.000000   \n",
       "75%        1.000000      4.000000       1.000000    100.000000       1.000000   \n",
       "max        2.000000      4.000000       2.000000    398.000000       3.000000   \n",
       "\n",
       "                LTV        TENURE        STATUS  \n",
       "count  13299.000000  13299.000000  13299.000000  \n",
       "mean       0.776054     24.792240      0.377171  \n",
       "std        0.126130      7.501085      0.484697  \n",
       "min        0.007508     12.000000      0.000000  \n",
       "25%        0.719710     18.000000      0.000000  \n",
       "50%        0.807537     24.000000      0.000000  \n",
       "75%        0.849177     36.000000      1.000000  \n",
       "max        1.000000     36.000000      1.000000  "
      ]
     },
     "execution_count": 8,
     "metadata": {},
     "output_type": "execute_result"
    }
   ],
   "source": [
    "df.describe()"
   ]
  },
  {
   "cell_type": "code",
   "execution_count": 9,
   "id": "dc681957",
   "metadata": {},
   "outputs": [
    {
     "data": {
      "text/html": [
       "<div>\n",
       "<style scoped>\n",
       "    .dataframe tbody tr th:only-of-type {\n",
       "        vertical-align: middle;\n",
       "    }\n",
       "\n",
       "    .dataframe tbody tr th {\n",
       "        vertical-align: top;\n",
       "    }\n",
       "\n",
       "    .dataframe thead th {\n",
       "        text-align: right;\n",
       "    }\n",
       "</style>\n",
       "<table border=\"1\" class=\"dataframe\">\n",
       "  <thead>\n",
       "    <tr style=\"text-align: right;\">\n",
       "      <th></th>\n",
       "      <th>APP_ID</th>\n",
       "      <th>CIBIL_SCORE_VALUE</th>\n",
       "      <th>CUS_CATGCODE</th>\n",
       "      <th>EMPLOYMENT_TYPE</th>\n",
       "      <th>AGE</th>\n",
       "      <th>NO_OF_DEPENDENTS</th>\n",
       "      <th>MARITAL</th>\n",
       "      <th>EDU_QUA</th>\n",
       "      <th>P_RESTYPE</th>\n",
       "      <th>P_CATEGORY</th>\n",
       "      <th>EMPLOYEE_TYPE</th>\n",
       "      <th>MON_IN_OCC</th>\n",
       "      <th>INCOM_EXP_GMI</th>\n",
       "      <th>LTV</th>\n",
       "      <th>TENURE</th>\n",
       "      <th>STATUS</th>\n",
       "    </tr>\n",
       "  </thead>\n",
       "  <tbody>\n",
       "    <tr>\n",
       "      <th>APP_ID</th>\n",
       "      <td>1.000000</td>\n",
       "      <td>0.009942</td>\n",
       "      <td>-0.011002</td>\n",
       "      <td>0.022982</td>\n",
       "      <td>0.000432</td>\n",
       "      <td>-0.018344</td>\n",
       "      <td>0.005520</td>\n",
       "      <td>0.034257</td>\n",
       "      <td>0.042191</td>\n",
       "      <td>0.032168</td>\n",
       "      <td>0.029499</td>\n",
       "      <td>0.015972</td>\n",
       "      <td>0.044291</td>\n",
       "      <td>-0.007395</td>\n",
       "      <td>-0.043714</td>\n",
       "      <td>-0.021743</td>\n",
       "    </tr>\n",
       "    <tr>\n",
       "      <th>CIBIL_SCORE_VALUE</th>\n",
       "      <td>0.009942</td>\n",
       "      <td>1.000000</td>\n",
       "      <td>-0.062113</td>\n",
       "      <td>-0.053539</td>\n",
       "      <td>0.176364</td>\n",
       "      <td>0.077063</td>\n",
       "      <td>0.136502</td>\n",
       "      <td>0.093796</td>\n",
       "      <td>-0.052456</td>\n",
       "      <td>-0.044414</td>\n",
       "      <td>-0.020729</td>\n",
       "      <td>0.141864</td>\n",
       "      <td>0.133280</td>\n",
       "      <td>0.011106</td>\n",
       "      <td>-0.027493</td>\n",
       "      <td>-0.035335</td>\n",
       "    </tr>\n",
       "    <tr>\n",
       "      <th>CUS_CATGCODE</th>\n",
       "      <td>-0.011002</td>\n",
       "      <td>-0.062113</td>\n",
       "      <td>1.000000</td>\n",
       "      <td>-0.046468</td>\n",
       "      <td>0.030525</td>\n",
       "      <td>0.006603</td>\n",
       "      <td>0.041869</td>\n",
       "      <td>-0.086445</td>\n",
       "      <td>0.046271</td>\n",
       "      <td>0.050780</td>\n",
       "      <td>0.004030</td>\n",
       "      <td>0.044972</td>\n",
       "      <td>-0.019529</td>\n",
       "      <td>-0.014645</td>\n",
       "      <td>0.000089</td>\n",
       "      <td>0.025449</td>\n",
       "    </tr>\n",
       "    <tr>\n",
       "      <th>EMPLOYMENT_TYPE</th>\n",
       "      <td>0.022982</td>\n",
       "      <td>-0.053539</td>\n",
       "      <td>-0.046468</td>\n",
       "      <td>1.000000</td>\n",
       "      <td>-0.189267</td>\n",
       "      <td>-0.078590</td>\n",
       "      <td>-0.141434</td>\n",
       "      <td>0.127783</td>\n",
       "      <td>0.091038</td>\n",
       "      <td>0.026573</td>\n",
       "      <td>0.335105</td>\n",
       "      <td>-0.265812</td>\n",
       "      <td>-0.159099</td>\n",
       "      <td>0.083429</td>\n",
       "      <td>0.036151</td>\n",
       "      <td>-0.032448</td>\n",
       "    </tr>\n",
       "    <tr>\n",
       "      <th>AGE</th>\n",
       "      <td>0.000432</td>\n",
       "      <td>0.176364</td>\n",
       "      <td>0.030525</td>\n",
       "      <td>-0.189267</td>\n",
       "      <td>1.000000</td>\n",
       "      <td>0.246085</td>\n",
       "      <td>0.491613</td>\n",
       "      <td>-0.068689</td>\n",
       "      <td>-0.129929</td>\n",
       "      <td>-0.032082</td>\n",
       "      <td>-0.057921</td>\n",
       "      <td>0.525443</td>\n",
       "      <td>0.103989</td>\n",
       "      <td>0.017558</td>\n",
       "      <td>-0.028053</td>\n",
       "      <td>0.016213</td>\n",
       "    </tr>\n",
       "    <tr>\n",
       "      <th>NO_OF_DEPENDENTS</th>\n",
       "      <td>-0.018344</td>\n",
       "      <td>0.077063</td>\n",
       "      <td>0.006603</td>\n",
       "      <td>-0.078590</td>\n",
       "      <td>0.246085</td>\n",
       "      <td>1.000000</td>\n",
       "      <td>0.236466</td>\n",
       "      <td>-0.080688</td>\n",
       "      <td>-0.128534</td>\n",
       "      <td>-0.116083</td>\n",
       "      <td>-0.024557</td>\n",
       "      <td>0.146210</td>\n",
       "      <td>0.015093</td>\n",
       "      <td>0.015606</td>\n",
       "      <td>-0.017191</td>\n",
       "      <td>-0.010696</td>\n",
       "    </tr>\n",
       "    <tr>\n",
       "      <th>MARITAL</th>\n",
       "      <td>0.005520</td>\n",
       "      <td>0.136502</td>\n",
       "      <td>0.041869</td>\n",
       "      <td>-0.141434</td>\n",
       "      <td>0.491613</td>\n",
       "      <td>0.236466</td>\n",
       "      <td>1.000000</td>\n",
       "      <td>-0.107670</td>\n",
       "      <td>-0.061148</td>\n",
       "      <td>0.009563</td>\n",
       "      <td>-0.058421</td>\n",
       "      <td>0.277898</td>\n",
       "      <td>0.049669</td>\n",
       "      <td>0.032459</td>\n",
       "      <td>-0.008575</td>\n",
       "      <td>0.008939</td>\n",
       "    </tr>\n",
       "    <tr>\n",
       "      <th>EDU_QUA</th>\n",
       "      <td>0.034257</td>\n",
       "      <td>0.093796</td>\n",
       "      <td>-0.086445</td>\n",
       "      <td>0.127783</td>\n",
       "      <td>-0.068689</td>\n",
       "      <td>-0.080688</td>\n",
       "      <td>-0.107670</td>\n",
       "      <td>1.000000</td>\n",
       "      <td>0.029952</td>\n",
       "      <td>-0.012302</td>\n",
       "      <td>0.063643</td>\n",
       "      <td>-0.084724</td>\n",
       "      <td>0.103713</td>\n",
       "      <td>-0.019962</td>\n",
       "      <td>0.003500</td>\n",
       "      <td>-0.031821</td>\n",
       "    </tr>\n",
       "    <tr>\n",
       "      <th>P_RESTYPE</th>\n",
       "      <td>0.042191</td>\n",
       "      <td>-0.052456</td>\n",
       "      <td>0.046271</td>\n",
       "      <td>0.091038</td>\n",
       "      <td>-0.129929</td>\n",
       "      <td>-0.128534</td>\n",
       "      <td>-0.061148</td>\n",
       "      <td>0.029952</td>\n",
       "      <td>1.000000</td>\n",
       "      <td>0.180616</td>\n",
       "      <td>0.008332</td>\n",
       "      <td>-0.110712</td>\n",
       "      <td>-0.021902</td>\n",
       "      <td>-0.017890</td>\n",
       "      <td>-0.007201</td>\n",
       "      <td>0.028630</td>\n",
       "    </tr>\n",
       "    <tr>\n",
       "      <th>P_CATEGORY</th>\n",
       "      <td>0.032168</td>\n",
       "      <td>-0.044414</td>\n",
       "      <td>0.050780</td>\n",
       "      <td>0.026573</td>\n",
       "      <td>-0.032082</td>\n",
       "      <td>-0.116083</td>\n",
       "      <td>0.009563</td>\n",
       "      <td>-0.012302</td>\n",
       "      <td>0.180616</td>\n",
       "      <td>1.000000</td>\n",
       "      <td>0.016424</td>\n",
       "      <td>-0.006349</td>\n",
       "      <td>0.008498</td>\n",
       "      <td>-0.045086</td>\n",
       "      <td>0.029213</td>\n",
       "      <td>0.001580</td>\n",
       "    </tr>\n",
       "    <tr>\n",
       "      <th>EMPLOYEE_TYPE</th>\n",
       "      <td>0.029499</td>\n",
       "      <td>-0.020729</td>\n",
       "      <td>0.004030</td>\n",
       "      <td>0.335105</td>\n",
       "      <td>-0.057921</td>\n",
       "      <td>-0.024557</td>\n",
       "      <td>-0.058421</td>\n",
       "      <td>0.063643</td>\n",
       "      <td>0.008332</td>\n",
       "      <td>0.016424</td>\n",
       "      <td>1.000000</td>\n",
       "      <td>-0.054185</td>\n",
       "      <td>-0.034926</td>\n",
       "      <td>0.024390</td>\n",
       "      <td>0.027673</td>\n",
       "      <td>-0.019957</td>\n",
       "    </tr>\n",
       "    <tr>\n",
       "      <th>MON_IN_OCC</th>\n",
       "      <td>0.015972</td>\n",
       "      <td>0.141864</td>\n",
       "      <td>0.044972</td>\n",
       "      <td>-0.265812</td>\n",
       "      <td>0.525443</td>\n",
       "      <td>0.146210</td>\n",
       "      <td>0.277898</td>\n",
       "      <td>-0.084724</td>\n",
       "      <td>-0.110712</td>\n",
       "      <td>-0.006349</td>\n",
       "      <td>-0.054185</td>\n",
       "      <td>1.000000</td>\n",
       "      <td>0.144727</td>\n",
       "      <td>-0.023445</td>\n",
       "      <td>-0.045281</td>\n",
       "      <td>-0.008944</td>\n",
       "    </tr>\n",
       "    <tr>\n",
       "      <th>INCOM_EXP_GMI</th>\n",
       "      <td>0.044291</td>\n",
       "      <td>0.133280</td>\n",
       "      <td>-0.019529</td>\n",
       "      <td>-0.159099</td>\n",
       "      <td>0.103989</td>\n",
       "      <td>0.015093</td>\n",
       "      <td>0.049669</td>\n",
       "      <td>0.103713</td>\n",
       "      <td>-0.021902</td>\n",
       "      <td>0.008498</td>\n",
       "      <td>-0.034926</td>\n",
       "      <td>0.144727</td>\n",
       "      <td>1.000000</td>\n",
       "      <td>-0.019795</td>\n",
       "      <td>-0.037190</td>\n",
       "      <td>0.021109</td>\n",
       "    </tr>\n",
       "    <tr>\n",
       "      <th>LTV</th>\n",
       "      <td>-0.007395</td>\n",
       "      <td>0.011106</td>\n",
       "      <td>-0.014645</td>\n",
       "      <td>0.083429</td>\n",
       "      <td>0.017558</td>\n",
       "      <td>0.015606</td>\n",
       "      <td>0.032459</td>\n",
       "      <td>-0.019962</td>\n",
       "      <td>-0.017890</td>\n",
       "      <td>-0.045086</td>\n",
       "      <td>0.024390</td>\n",
       "      <td>-0.023445</td>\n",
       "      <td>-0.019795</td>\n",
       "      <td>1.000000</td>\n",
       "      <td>0.235895</td>\n",
       "      <td>0.056713</td>\n",
       "    </tr>\n",
       "    <tr>\n",
       "      <th>TENURE</th>\n",
       "      <td>-0.043714</td>\n",
       "      <td>-0.027493</td>\n",
       "      <td>0.000089</td>\n",
       "      <td>0.036151</td>\n",
       "      <td>-0.028053</td>\n",
       "      <td>-0.017191</td>\n",
       "      <td>-0.008575</td>\n",
       "      <td>0.003500</td>\n",
       "      <td>-0.007201</td>\n",
       "      <td>0.029213</td>\n",
       "      <td>0.027673</td>\n",
       "      <td>-0.045281</td>\n",
       "      <td>-0.037190</td>\n",
       "      <td>0.235895</td>\n",
       "      <td>1.000000</td>\n",
       "      <td>0.047616</td>\n",
       "    </tr>\n",
       "    <tr>\n",
       "      <th>STATUS</th>\n",
       "      <td>-0.021743</td>\n",
       "      <td>-0.035335</td>\n",
       "      <td>0.025449</td>\n",
       "      <td>-0.032448</td>\n",
       "      <td>0.016213</td>\n",
       "      <td>-0.010696</td>\n",
       "      <td>0.008939</td>\n",
       "      <td>-0.031821</td>\n",
       "      <td>0.028630</td>\n",
       "      <td>0.001580</td>\n",
       "      <td>-0.019957</td>\n",
       "      <td>-0.008944</td>\n",
       "      <td>0.021109</td>\n",
       "      <td>0.056713</td>\n",
       "      <td>0.047616</td>\n",
       "      <td>1.000000</td>\n",
       "    </tr>\n",
       "  </tbody>\n",
       "</table>\n",
       "</div>"
      ],
      "text/plain": [
       "                     APP_ID  CIBIL_SCORE_VALUE  CUS_CATGCODE  EMPLOYMENT_TYPE  \\\n",
       "APP_ID             1.000000           0.009942     -0.011002         0.022982   \n",
       "CIBIL_SCORE_VALUE  0.009942           1.000000     -0.062113        -0.053539   \n",
       "CUS_CATGCODE      -0.011002          -0.062113      1.000000        -0.046468   \n",
       "EMPLOYMENT_TYPE    0.022982          -0.053539     -0.046468         1.000000   \n",
       "AGE                0.000432           0.176364      0.030525        -0.189267   \n",
       "NO_OF_DEPENDENTS  -0.018344           0.077063      0.006603        -0.078590   \n",
       "MARITAL            0.005520           0.136502      0.041869        -0.141434   \n",
       "EDU_QUA            0.034257           0.093796     -0.086445         0.127783   \n",
       "P_RESTYPE          0.042191          -0.052456      0.046271         0.091038   \n",
       "P_CATEGORY         0.032168          -0.044414      0.050780         0.026573   \n",
       "EMPLOYEE_TYPE      0.029499          -0.020729      0.004030         0.335105   \n",
       "MON_IN_OCC         0.015972           0.141864      0.044972        -0.265812   \n",
       "INCOM_EXP_GMI      0.044291           0.133280     -0.019529        -0.159099   \n",
       "LTV               -0.007395           0.011106     -0.014645         0.083429   \n",
       "TENURE            -0.043714          -0.027493      0.000089         0.036151   \n",
       "STATUS            -0.021743          -0.035335      0.025449        -0.032448   \n",
       "\n",
       "                        AGE  NO_OF_DEPENDENTS   MARITAL   EDU_QUA  P_RESTYPE  \\\n",
       "APP_ID             0.000432         -0.018344  0.005520  0.034257   0.042191   \n",
       "CIBIL_SCORE_VALUE  0.176364          0.077063  0.136502  0.093796  -0.052456   \n",
       "CUS_CATGCODE       0.030525          0.006603  0.041869 -0.086445   0.046271   \n",
       "EMPLOYMENT_TYPE   -0.189267         -0.078590 -0.141434  0.127783   0.091038   \n",
       "AGE                1.000000          0.246085  0.491613 -0.068689  -0.129929   \n",
       "NO_OF_DEPENDENTS   0.246085          1.000000  0.236466 -0.080688  -0.128534   \n",
       "MARITAL            0.491613          0.236466  1.000000 -0.107670  -0.061148   \n",
       "EDU_QUA           -0.068689         -0.080688 -0.107670  1.000000   0.029952   \n",
       "P_RESTYPE         -0.129929         -0.128534 -0.061148  0.029952   1.000000   \n",
       "P_CATEGORY        -0.032082         -0.116083  0.009563 -0.012302   0.180616   \n",
       "EMPLOYEE_TYPE     -0.057921         -0.024557 -0.058421  0.063643   0.008332   \n",
       "MON_IN_OCC         0.525443          0.146210  0.277898 -0.084724  -0.110712   \n",
       "INCOM_EXP_GMI      0.103989          0.015093  0.049669  0.103713  -0.021902   \n",
       "LTV                0.017558          0.015606  0.032459 -0.019962  -0.017890   \n",
       "TENURE            -0.028053         -0.017191 -0.008575  0.003500  -0.007201   \n",
       "STATUS             0.016213         -0.010696  0.008939 -0.031821   0.028630   \n",
       "\n",
       "                   P_CATEGORY  EMPLOYEE_TYPE  MON_IN_OCC  INCOM_EXP_GMI  \\\n",
       "APP_ID               0.032168       0.029499    0.015972       0.044291   \n",
       "CIBIL_SCORE_VALUE   -0.044414      -0.020729    0.141864       0.133280   \n",
       "CUS_CATGCODE         0.050780       0.004030    0.044972      -0.019529   \n",
       "EMPLOYMENT_TYPE      0.026573       0.335105   -0.265812      -0.159099   \n",
       "AGE                 -0.032082      -0.057921    0.525443       0.103989   \n",
       "NO_OF_DEPENDENTS    -0.116083      -0.024557    0.146210       0.015093   \n",
       "MARITAL              0.009563      -0.058421    0.277898       0.049669   \n",
       "EDU_QUA             -0.012302       0.063643   -0.084724       0.103713   \n",
       "P_RESTYPE            0.180616       0.008332   -0.110712      -0.021902   \n",
       "P_CATEGORY           1.000000       0.016424   -0.006349       0.008498   \n",
       "EMPLOYEE_TYPE        0.016424       1.000000   -0.054185      -0.034926   \n",
       "MON_IN_OCC          -0.006349      -0.054185    1.000000       0.144727   \n",
       "INCOM_EXP_GMI        0.008498      -0.034926    0.144727       1.000000   \n",
       "LTV                 -0.045086       0.024390   -0.023445      -0.019795   \n",
       "TENURE               0.029213       0.027673   -0.045281      -0.037190   \n",
       "STATUS               0.001580      -0.019957   -0.008944       0.021109   \n",
       "\n",
       "                        LTV    TENURE    STATUS  \n",
       "APP_ID            -0.007395 -0.043714 -0.021743  \n",
       "CIBIL_SCORE_VALUE  0.011106 -0.027493 -0.035335  \n",
       "CUS_CATGCODE      -0.014645  0.000089  0.025449  \n",
       "EMPLOYMENT_TYPE    0.083429  0.036151 -0.032448  \n",
       "AGE                0.017558 -0.028053  0.016213  \n",
       "NO_OF_DEPENDENTS   0.015606 -0.017191 -0.010696  \n",
       "MARITAL            0.032459 -0.008575  0.008939  \n",
       "EDU_QUA           -0.019962  0.003500 -0.031821  \n",
       "P_RESTYPE         -0.017890 -0.007201  0.028630  \n",
       "P_CATEGORY        -0.045086  0.029213  0.001580  \n",
       "EMPLOYEE_TYPE      0.024390  0.027673 -0.019957  \n",
       "MON_IN_OCC        -0.023445 -0.045281 -0.008944  \n",
       "INCOM_EXP_GMI     -0.019795 -0.037190  0.021109  \n",
       "LTV                1.000000  0.235895  0.056713  \n",
       "TENURE             0.235895  1.000000  0.047616  \n",
       "STATUS             0.056713  0.047616  1.000000  "
      ]
     },
     "execution_count": 9,
     "metadata": {},
     "output_type": "execute_result"
    }
   ],
   "source": [
    "df.corr()"
   ]
  },
  {
   "cell_type": "code",
   "execution_count": 10,
   "id": "c880d1b5",
   "metadata": {},
   "outputs": [
    {
     "data": {
      "text/plain": [
       "<AxesSubplot:xlabel='INCOM_EXP_GMI', ylabel='count'>"
      ]
     },
     "execution_count": 10,
     "metadata": {},
     "output_type": "execute_result"
    },
    {
     "data": {
      "image/png": "[encoded data removed]",
      "text/plain": [
       "<Figure size 1700x2000 with 12 Axes>"
      ]
     },
     "metadata": {},
     "output_type": "display_data"
    }
   ],
   "source": [
    "fig,axes = plt.subplots(6,2,figsize=(17,20))\n",
    "sns.countplot(x='CIBIL_SCORE_VALUE',data=df,hue='STATUS',ax=axes[0,0])\n",
    "sns.countplot(x='NEW_CUST',data=df,hue='STATUS',ax=axes[0,1])\n",
    "\n",
    "sns.countplot(x='EMPLOYMENT_TYPE',data=df,hue='STATUS',ax=axes[1,1])\n",
    "sns.countplot(x='CUS_CATGCODE',data=df,hue='STATUS',ax=axes[1,0])\n",
    "sns.countplot(x='SEX',data=df,hue='STATUS',ax=axes[2,0])\n",
    "sns.countplot(x='NO_OF_DEPENDENTS',data=df,hue='STATUS',ax=axes[2,1])\n",
    "sns.countplot(x='MARITAL',data=df,hue='STATUS',ax=axes[3,0])\n",
    "sns.countplot(x='P_RESTYPE',data=df,hue='STATUS',ax=axes[3,1])\n",
    "\n",
    "sns.countplot(x='P_CATEGORY',data=df,hue='STATUS',ax=axes[4,0])\n",
    "sns.countplot(x='INCOM_EXP_GMI',data=df,hue='STATUS',ax=axes[5,0])"
   ]
  },
  {
   "cell_type": "markdown",
   "id": "29903f6c",
   "metadata": {},
   "source": [
    "DATA CLEANING"
   ]
  },
  {
   "cell_type": "code",
   "execution_count": 11,
   "id": "2d8eab7f",
   "metadata": {},
   "outputs": [
    {
     "data": {
      "text/plain": [
       "APP_ID               0\n",
       "CIBIL_SCORE_VALUE    0\n",
       "NEW_CUST             0\n",
       "CUS_CATGCODE         0\n",
       "EMPLOYMENT_TYPE      0\n",
       "AGE                  0\n",
       "SEX                  0\n",
       "NO_OF_DEPENDENTS     0\n",
       "MARITAL              0\n",
       "EDU_QUA              0\n",
       "P_RESTYPE            0\n",
       "P_CATEGORY           0\n",
       "EMPLOYEE_TYPE        0\n",
       "MON_IN_OCC           0\n",
       "INCOM_EXP_GMI        0\n",
       "LTV                  0\n",
       "TENURE               0\n",
       "STATUS               0\n",
       "dtype: int64"
      ]
     },
     "execution_count": 11,
     "metadata": {},
     "output_type": "execute_result"
    }
   ],
   "source": [
    "df.isna().sum()"
   ]
  },
  {
   "cell_type": "code",
   "execution_count": 12,
   "id": "94869706",
   "metadata": {},
   "outputs": [
    {
     "name": "stdout",
     "output_type": "stream",
     "text": [
      "APP_ID : [12345 12347 12349 ... 38937 38939 38941]\n",
      "CIBIL_SCORE_VALUE : [0 2 1]\n",
      "NEW_CUST : ['YES' 'NO']\n",
      "CUS_CATGCODE : [1 0]\n",
      "EMPLOYMENT_TYPE : [0 1]\n",
      "AGE : [31 40 27 33 29 26 38 25 21 42 34 28 24 53 30 35 50 32 44 36 20 54 22 55\n",
      " 47 23 45 52 41 39 37 43 49 46 51 48 19 18]\n",
      "SEX : ['F' 'M']\n",
      "NO_OF_DEPENDENTS : [3 2 1 0]\n",
      "MARITAL : [0 1]\n",
      "EDU_QUA : [0 1]\n",
      "P_RESTYPE : [1 0 2]\n",
      "P_CATEGORY : [4 1 2 3]\n",
      "EMPLOYEE_TYPE : [2 1 0]\n",
      "MON_IN_OCC : [ 36  12  72 120  24  48 110  26 216  84  96  17   2 180  60 300 108  14\n",
      "   6   8  98  16  28 168 288   5   4  18  30 240   7   3 144  13 122  65\n",
      "  25 336 132  87  39 137 150  29 276  49  85 360  15   1 245 305  27 252\n",
      " 156 204  50 228  97  61  37 241 121  71  31 192  41 104 324 182 242  78\n",
      "  38 312  53  40  19  52 130 264 154  63 218   9  62  73  42 183  66 126\n",
      " 102  67 170 158 217  75  54 361 134 188 117  74 338 269 362 106 303 277\n",
      "  86 100 266 302 185 112 341 138 123  11 148 330 368  44  77 125  10  91\n",
      "  35 344 152 348  20 101  22 310  69 246  58  93 339 145 157  51 219 113\n",
      " 194  89 290  68 146  32 384  92 181 265  70  33 129 128 200 212 116 248\n",
      "  45 309 249 177 243 173  23 250  43 321 278 124  90 186  56  64  83 244\n",
      " 147 365 301 109 396 231  88 160 230 364 304  76 164 135 197 281 389 221\n",
      " 169 222 149 115 398 229 205 133 253 161 209 372 337]\n",
      "INCOM_EXP_GMI : [0 2 1 3]\n",
      "LTV : [0.76710425 0.61907749 0.84894885 ... 0.59333333 0.10666667 0.08333333]\n",
      "TENURE : [12 24 36 18]\n",
      "STATUS : [0 1]\n"
     ]
    }
   ],
   "source": [
    "#checking for unique entries in each columns\n",
    "for col in df.columns:\n",
    "        print('{} : {}'.format(col,df[col].unique()))"
   ]
  },
  {
   "cell_type": "markdown",
   "id": "4ceded7d",
   "metadata": {},
   "source": [
    "\n",
    "As we observe we dont have any missing values .Neither we can see any out of the box value in any of the variables"
   ]
  },
  {
   "cell_type": "code",
   "execution_count": 13,
   "id": "81d0b670",
   "metadata": {},
   "outputs": [
    {
     "data": {
      "text/plain": [
       "(13299, 18)"
      ]
     },
     "execution_count": 13,
     "metadata": {},
     "output_type": "execute_result"
    }
   ],
   "source": [
    "df.shape"
   ]
  },
  {
   "cell_type": "markdown",
   "id": "97368543",
   "metadata": {},
   "source": [
    "# Converting categorical values to numerical value"
   ]
  },
  {
   "cell_type": "code",
   "execution_count": 14,
   "id": "fd938e53",
   "metadata": {},
   "outputs": [
    {
     "data": {
      "text/plain": [
       "0    0.622829\n",
       "1    0.377171\n",
       "Name: STATUS, dtype: float64"
      ]
     },
     "execution_count": 14,
     "metadata": {},
     "output_type": "execute_result"
    }
   ],
   "source": [
    "#Counting number of rejected and accepted applicants\n",
    "#Loan approved or rejected is 1 or 0 respectively\n",
    "df['STATUS'].value_counts(normalize = True)"
   ]
  },
  {
   "cell_type": "markdown",
   "id": "d2d4521c",
   "metadata": {},
   "source": [
    "Therefore as we can see ,5016 loans have been accepted out of 13299 loan requests\n",
    "                       \n",
    "                         8283 rejected out of 13299 loan requests"
   ]
  },
  {
   "cell_type": "code",
   "execution_count": 15,
   "id": "9e600cd5",
   "metadata": {},
   "outputs": [
    {
     "data": {
      "text/plain": [
       "0    0.673885\n",
       "1    0.326115\n",
       "Name: NEW_CUST, dtype: float64"
      ]
     },
     "execution_count": 15,
     "metadata": {},
     "output_type": "execute_result"
    }
   ],
   "source": [
    "df['NEW_CUST'].replace(['NO','YES'],[0,1], inplace=True)\n",
    "df['NEW_CUST'].value_counts(normalize = True)"
   ]
  },
  {
   "cell_type": "code",
   "execution_count": 16,
   "id": "7574646c",
   "metadata": {},
   "outputs": [
    {
     "data": {
      "text/plain": [
       "1    0.665990\n",
       "0    0.250320\n",
       "2    0.083691\n",
       "Name: EMPLOYEE_TYPE, dtype: float64"
      ]
     },
     "execution_count": 16,
     "metadata": {},
     "output_type": "execute_result"
    }
   ],
   "source": [
    "df['EMPLOYEE_TYPE'].replace(['0','1','2'],[0,1,2], inplace=True)\n",
    "df['EMPLOYEE_TYPE'].value_counts(normalize = True)"
   ]
  },
  {
   "cell_type": "code",
   "execution_count": 17,
   "id": "34143422",
   "metadata": {},
   "outputs": [
    {
     "data": {
      "text/plain": [
       "1    0.590044\n",
       "0    0.409956\n",
       "Name: MARITAL, dtype: float64"
      ]
     },
     "execution_count": 17,
     "metadata": {},
     "output_type": "execute_result"
    }
   ],
   "source": [
    "df['MARITAL'].replace(['0','1'],[0,1], inplace=True)\n",
    "df['MARITAL'].value_counts(normalize = True)"
   ]
  },
  {
   "cell_type": "code",
   "execution_count": 18,
   "id": "8044613f",
   "metadata": {},
   "outputs": [
    {
     "data": {
      "text/plain": [
       "1    0.900444\n",
       "0    0.099556\n",
       "Name: SEX, dtype: float64"
      ]
     },
     "execution_count": 18,
     "metadata": {},
     "output_type": "execute_result"
    }
   ],
   "source": [
    "df['SEX'].replace(['F','M'],[1,0], inplace=True)\n",
    "df['SEX'].value_counts(normalize = True)"
   ]
  },
  {
   "cell_type": "code",
   "execution_count": 19,
   "id": "6020071a",
   "metadata": {},
   "outputs": [
    {
     "data": {
      "text/html": [
       "<div>\n",
       "<style scoped>\n",
       "    .dataframe tbody tr th:only-of-type {\n",
       "        vertical-align: middle;\n",
       "    }\n",
       "\n",
       "    .dataframe tbody tr th {\n",
       "        vertical-align: top;\n",
       "    }\n",
       "\n",
       "    .dataframe thead th {\n",
       "        text-align: right;\n",
       "    }\n",
       "</style>\n",
       "<table border=\"1\" class=\"dataframe\">\n",
       "  <thead>\n",
       "    <tr style=\"text-align: right;\">\n",
       "      <th></th>\n",
       "      <th>Total applicants</th>\n",
       "    </tr>\n",
       "    <tr>\n",
       "      <th>Months</th>\n",
       "      <th></th>\n",
       "    </tr>\n",
       "  </thead>\n",
       "  <tbody>\n",
       "    <tr>\n",
       "      <th>24</th>\n",
       "      <td>0.448380</td>\n",
       "    </tr>\n",
       "    <tr>\n",
       "      <th>36</th>\n",
       "      <td>0.256636</td>\n",
       "    </tr>\n",
       "    <tr>\n",
       "      <th>18</th>\n",
       "      <td>0.208737</td>\n",
       "    </tr>\n",
       "    <tr>\n",
       "      <th>12</th>\n",
       "      <td>0.086247</td>\n",
       "    </tr>\n",
       "  </tbody>\n",
       "</table>\n",
       "</div>"
      ],
      "text/plain": [
       "        Total applicants\n",
       "Months                  \n",
       "24              0.448380\n",
       "36              0.256636\n",
       "18              0.208737\n",
       "12              0.086247"
      ]
     },
     "execution_count": 19,
     "metadata": {},
     "output_type": "execute_result"
    }
   ],
   "source": [
    "#Loan tenure ranges from 12 to 48\n",
    "df['TENURE'].value_counts(normalize = True)\n",
    "#looking at distribution of Loan tenure available\n",
    "df['TENURE'].value_counts(normalize = True).to_frame('Total applicants').rename_axis('Months')"
   ]
  },
  {
   "cell_type": "markdown",
   "id": "cd98f98c",
   "metadata": {},
   "source": [
    "44.8% of the total applicants prefer 24 month loan tenure"
   ]
  },
  {
   "cell_type": "markdown",
   "id": "054d2fcc",
   "metadata": {},
   "source": [
    "Let see how different variable effect the target variable"
   ]
  },
  {
   "cell_type": "code",
   "execution_count": 20,
   "id": "8ab86cfe",
   "metadata": {},
   "outputs": [
    {
     "data": {
      "text/html": [
       "<div>\n",
       "<style scoped>\n",
       "    .dataframe tbody tr th:only-of-type {\n",
       "        vertical-align: middle;\n",
       "    }\n",
       "\n",
       "    .dataframe tbody tr th {\n",
       "        vertical-align: top;\n",
       "    }\n",
       "\n",
       "    .dataframe thead th {\n",
       "        text-align: right;\n",
       "    }\n",
       "</style>\n",
       "<table border=\"1\" class=\"dataframe\">\n",
       "  <thead>\n",
       "    <tr style=\"text-align: right;\">\n",
       "      <th></th>\n",
       "      <th>APP_ID</th>\n",
       "      <th>CIBIL_SCORE_VALUE</th>\n",
       "      <th>NEW_CUST</th>\n",
       "      <th>CUS_CATGCODE</th>\n",
       "      <th>EMPLOYMENT_TYPE</th>\n",
       "      <th>AGE</th>\n",
       "      <th>SEX</th>\n",
       "      <th>NO_OF_DEPENDENTS</th>\n",
       "      <th>MARITAL</th>\n",
       "      <th>EDU_QUA</th>\n",
       "      <th>P_RESTYPE</th>\n",
       "      <th>P_CATEGORY</th>\n",
       "      <th>EMPLOYEE_TYPE</th>\n",
       "      <th>MON_IN_OCC</th>\n",
       "      <th>INCOM_EXP_GMI</th>\n",
       "      <th>LTV</th>\n",
       "      <th>TENURE</th>\n",
       "      <th>Target</th>\n",
       "    </tr>\n",
       "  </thead>\n",
       "  <tbody>\n",
       "    <tr>\n",
       "      <th>0</th>\n",
       "      <td>12345</td>\n",
       "      <td>0</td>\n",
       "      <td>1</td>\n",
       "      <td>1</td>\n",
       "      <td>0</td>\n",
       "      <td>31</td>\n",
       "      <td>1</td>\n",
       "      <td>3</td>\n",
       "      <td>0</td>\n",
       "      <td>0</td>\n",
       "      <td>1</td>\n",
       "      <td>4</td>\n",
       "      <td>2</td>\n",
       "      <td>36</td>\n",
       "      <td>0</td>\n",
       "      <td>0.767104</td>\n",
       "      <td>12</td>\n",
       "      <td>0</td>\n",
       "    </tr>\n",
       "    <tr>\n",
       "      <th>1</th>\n",
       "      <td>12347</td>\n",
       "      <td>0</td>\n",
       "      <td>0</td>\n",
       "      <td>1</td>\n",
       "      <td>1</td>\n",
       "      <td>40</td>\n",
       "      <td>1</td>\n",
       "      <td>2</td>\n",
       "      <td>1</td>\n",
       "      <td>1</td>\n",
       "      <td>0</td>\n",
       "      <td>1</td>\n",
       "      <td>1</td>\n",
       "      <td>12</td>\n",
       "      <td>2</td>\n",
       "      <td>0.619077</td>\n",
       "      <td>24</td>\n",
       "      <td>0</td>\n",
       "    </tr>\n",
       "  </tbody>\n",
       "</table>\n",
       "</div>"
      ],
      "text/plain": [
       "   APP_ID  CIBIL_SCORE_VALUE  NEW_CUST  CUS_CATGCODE  EMPLOYMENT_TYPE  AGE  \\\n",
       "0   12345                  0         1             1                0   31   \n",
       "1   12347                  0         0             1                1   40   \n",
       "\n",
       "   SEX  NO_OF_DEPENDENTS  MARITAL  EDU_QUA  P_RESTYPE  P_CATEGORY  \\\n",
       "0    1                 3        0        0          1           4   \n",
       "1    1                 2        1        1          0           1   \n",
       "\n",
       "   EMPLOYEE_TYPE  MON_IN_OCC  INCOM_EXP_GMI       LTV  TENURE  Target  \n",
       "0              2          36              0  0.767104      12       0  \n",
       "1              1          12              2  0.619077      24       0  "
      ]
     },
     "execution_count": 20,
     "metadata": {},
     "output_type": "execute_result"
    }
   ],
   "source": [
    "#Lets rename status column to 'target'\n",
    "df.rename(columns = {'STATUS':'Target'}, inplace = True)\n",
    "df.head(2)"
   ]
  },
  {
   "cell_type": "markdown",
   "id": "30aded10",
   "metadata": {},
   "source": [
    "Loan Approval Prediction Machine Learning\n",
    "\n",
    "\n",
    "selecting appropriate Machine Learning Model:"
   ]
  },
  {
   "cell_type": "code",
   "execution_count": 21,
   "id": "6ee11d06",
   "metadata": {},
   "outputs": [],
   "source": [
    "x = df.drop(['APP_ID','Target'], axis=1)\n",
    "y = df[\"Target\"]\n",
    "xtrain,xtest,ytrain,ytest = train_test_split(x,y,test_size = 0.15,shuffle = True,random_state=1, stratify = y)"
   ]
  },
  {
   "cell_type": "markdown",
   "id": "e5af0659",
   "metadata": {},
   "source": [
    "We will fit our algorithms in our classifiers array on Train dataset and check the accuracy and confusion matrix for our test dataset prediction given by different algorithms"
   ]
  },
  {
   "cell_type": "markdown",
   "id": "c7b9c181",
   "metadata": {},
   "source": [
    "# XGBOOST"
   ]
  },
  {
   "cell_type": "code",
   "execution_count": 22,
   "id": "1238a608",
   "metadata": {},
   "outputs": [],
   "source": [
    "import xgboost as xgb"
   ]
  },
  {
   "cell_type": "markdown",
   "id": "573478d2",
   "metadata": {},
   "source": [
    "XGBoost provides a way to convert our training and testing data into DMatrix. DMatrix is an optimized data structure that provides better memory efficiency and training speed. The best part is that converting a dataset into DMatrix is really easy"
   ]
  },
  {
   "cell_type": "code",
   "execution_count": 23,
   "id": "eef1c56a",
   "metadata": {},
   "outputs": [],
   "source": [
    "# convert to DMatrix\n",
    "d_train = xgb.DMatrix(xtrain, ytrain)\n",
    "d_test = xgb.DMatrix(xtest, ytest)"
   ]
  },
  {
   "cell_type": "code",
   "execution_count": 24,
   "id": "32e3b86b",
   "metadata": {},
   "outputs": [
    {
     "name": "stdout",
     "output_type": "stream",
     "text": [
      "[01:48:43] WARNING: C:/buildkite-agent/builds/buildkite-windows-cpu-autoscaling-group-i-030221e36e1a46bfb-1/xgboost/xgboost-ci-windows/src/learner.cc:767: \n",
      "Parameters: { \"n_estimators\", \"normalize_type\", \"rate_drop\", \"sample_type\" } are not used.\n",
      "\n"
     ]
    }
   ],
   "source": [
    "#Setting up Parameters in XGBoost\n",
    "params_1 = {\n",
    "    'booster': 'gbtree',\n",
    "    'max_depth': 5, \n",
    "    'learning_rate': 0.1,\n",
    "    'sample_type': 'uniform',\n",
    "    'normalize_type': 'tree',\n",
    "    'objective': 'binary:hinge',\n",
    "    'rate_drop': 0.1,\n",
    "    'n_estimators': 500\n",
    "}\n",
    "#To train on the dataset using a DMatrix, we need to use the XGBoost train() method.\n",
    "#The train() method takes two required arguments, the parameters, and the DMatrix. \n",
    "#Following is the code for training using DMatrix.\n",
    "xgb_clf = xgb.train(params_1, d_train)"
   ]
  },
  {
   "cell_type": "markdown",
   "id": "d34fdc14",
   "metadata": {},
   "source": [
    "Using the above model, we can also predict the survival classes on our validation set. We will get the classification results as either 0 or 1. After that, we will calculate the accuracy of our model."
   ]
  },
  {
   "cell_type": "code",
   "execution_count": 25,
   "id": "b75f4756",
   "metadata": {},
   "outputs": [
    {
     "name": "stdout",
     "output_type": "stream",
     "text": [
      "39.65 %\n"
     ]
    }
   ],
   "source": [
    "# make prediction\n",
    "preds = xgb_clf.predict(d_test)\n",
    "\n",
    "# print accuracy score\n",
    "print(np.round(accuracy_score(ytest, preds)*100, 2), '%')"
   ]
  },
  {
   "cell_type": "markdown",
   "id": "59f55c13",
   "metadata": {},
   "source": [
    "# SVM"
   ]
  },
  {
   "cell_type": "code",
   "execution_count": 26,
   "id": "dd045ff0",
   "metadata": {},
   "outputs": [],
   "source": [
    "from sklearn.svm import SVC\n",
    "from sklearn.preprocessing import StandardScaler\n",
    "from sklearn.linear_model import SGDClassifier"
   ]
  },
  {
   "cell_type": "code",
   "execution_count": 27,
   "id": "181aeaa0",
   "metadata": {},
   "outputs": [
    {
     "name": "stdout",
     "output_type": "stream",
     "text": [
      "Accuracy: 64.812\n"
     ]
    }
   ],
   "source": [
    "# Feature Scaling\n",
    "sc = StandardScaler()\n",
    "sc.fit(xtrain)\n",
    "X_train_std = sc.transform(xtrain)\n",
    "X_test_std = sc.transform(xtest)\n",
    " \n",
    "# Training a SVM classifier using SVC class\n",
    "svm = SVC(kernel= 'linear', random_state=1, C=0.1)\n",
    "svm.fit(X_train_std, ytrain)\n",
    " \n",
    "# Model performance\n",
    " \n",
    "ypred = svm.predict(X_test_std)\n",
    "print('Accuracy: %.3f' % (accuracy_score(ytest, ypred)*100))"
   ]
  },
  {
   "cell_type": "markdown",
   "id": "66340fc0",
   "metadata": {},
   "source": [
    "# DecisionTreeClassifier()\n"
   ]
  },
  {
   "cell_type": "code",
   "execution_count": 28,
   "id": "e1b7663c",
   "metadata": {},
   "outputs": [],
   "source": [
    "from sklearn import tree\n",
    "from sklearn.metrics import confusion_matrix\n",
    "from sklearn.model_selection import train_test_split\n",
    "from sklearn.tree import DecisionTreeClassifier\n",
    "from sklearn.metrics import accuracy_score\n",
    "from sklearn.metrics import classification_report"
   ]
  },
  {
   "cell_type": "code",
   "execution_count": 29,
   "id": "6f00e351",
   "metadata": {},
   "outputs": [],
   "source": [
    "# Function to perform training with giniIndex.\n",
    "def train_using_gini(X_train, X_test, y_train):\n",
    "  \n",
    "    # Creating the classifier object\n",
    "    clf_gini = DecisionTreeClassifier(criterion = \"gini\",random_state = 100,max_depth=3, min_samples_leaf=5)\n",
    "  \n",
    "    # Performing training\n",
    "    clf_gini.fit(X_train, y_train)\n",
    "    return clf_gini"
   ]
  },
  {
   "cell_type": "code",
   "execution_count": 30,
   "id": "0b4e14fc",
   "metadata": {},
   "outputs": [],
   "source": [
    "# Function to perform training with entropy.\n",
    "def train_using_entropy(X_train, X_test, y_train):\n",
    "  \n",
    "    # Decision tree with entropy\n",
    "    clf_entropy = DecisionTreeClassifier(criterion = \"entropy\", random_state = 100,max_depth = 3, min_samples_leaf = 5)\n",
    "  \n",
    "    # Performing training\n",
    "    clf_entropy.fit(X_train, y_train)\n",
    "    return clf_entropy\n",
    "\n",
    "# Function to make predictions\n",
    "def prediction(X_test, clf_object):\n",
    "  \n",
    "    # Predicton on test with giniIndex\n",
    "    y_pred = clf_object.predict(X_test)\n",
    "    print(\"Predicted values:\")\n",
    "    print(y_pred)\n",
    "    return y_pred\n",
    "      \n",
    "# Function to calculate accuracy\n",
    "def cal_accuracy(y_test, y_pred):\n",
    "      \n",
    "    print(\"Confusion Matrix:\\n \",confusion_matrix(y_test, y_pred))      \n",
    "    print (\"Accuracy : \",accuracy_score(y_test,y_pred)*100)      \n",
    "    print(\"Report : \",classification_report(y_test, y_pred))\n",
    "  \n"
   ]
  },
  {
   "cell_type": "code",
   "execution_count": 31,
   "id": "223e941c",
   "metadata": {},
   "outputs": [
    {
     "name": "stdout",
     "output_type": "stream",
     "text": [
      "Training Data Set Accuracy:  0.9904458598726115\n",
      "Training Data F1 Score  0.9871794871794872\n",
      "Validation Mean F1 Score:  0.5488660633678376\n",
      "Validation Mean Accuracy:  0.5675865483594462\n"
     ]
    }
   ],
   "source": [
    "from sklearn.model_selection import cross_val_score\n",
    "from sklearn.metrics import accuracy_score,f1_score\n",
    "\n",
    "tree_clf = DecisionTreeClassifier()\n",
    "tree_clf.fit(xtrain,ytrain)\n",
    "ypred = tree_clf.predict(xtrain)\n",
    "print(\"Training Data Set Accuracy: \", accuracy_score(ytrain,ypred))\n",
    "print(\"Training Data F1 Score \", f1_score(ytrain,ypred))\n",
    "\n",
    "print(\"Validation Mean F1 Score: \",cross_val_score(tree_clf,xtrain,ytrain,cv=5,scoring='f1_macro').mean())\n",
    "print(\"Validation Mean Accuracy: \",cross_val_score(tree_clf,xtrain,ytrain,cv=5,scoring='accuracy').mean())"
   ]
  },
  {
   "cell_type": "markdown",
   "id": "a046764f",
   "metadata": {},
   "source": [
    "Overfitting Problem\n",
    "We can see from above metrics that Training Accuracy > Test Accuracy with default settings of Decision Tree classifier. Hence, model is overfit. We will try some Hyper-parameter tuning and see if it helps.\n",
    "\n",
    "First let's try tuning 'Max_Depth' of tree"
   ]
  },
  {
   "cell_type": "code",
   "execution_count": 32,
   "id": "86d9cf0e",
   "metadata": {},
   "outputs": [
    {
     "name": "stdout",
     "output_type": "stream",
     "text": [
      "Results Using Gini Index:\n",
      "Predicted values:\n",
      "[0 1 0 ... 0 1 0]\n",
      "Confusion Matrix:\n",
      "  [[1010  233]\n",
      " [ 431  321]]\n",
      "Accuracy :  66.71679197994987\n",
      "Report :                precision    recall  f1-score   support\n",
      "\n",
      "           0       0.70      0.81      0.75      1243\n",
      "           1       0.58      0.43      0.49       752\n",
      "\n",
      "    accuracy                           0.67      1995\n",
      "   macro avg       0.64      0.62      0.62      1995\n",
      "weighted avg       0.66      0.67      0.65      1995\n",
      "\n",
      "Results Using Entropy:\n",
      "Predicted values:\n",
      "[0 1 0 ... 0 1 0]\n",
      "Confusion Matrix:\n",
      "  [[1010  233]\n",
      " [ 431  321]]\n",
      "Accuracy :  66.71679197994987\n",
      "Report :                precision    recall  f1-score   support\n",
      "\n",
      "           0       0.70      0.81      0.75      1243\n",
      "           1       0.58      0.43      0.49       752\n",
      "\n",
      "    accuracy                           0.67      1995\n",
      "   macro avg       0.64      0.62      0.62      1995\n",
      "weighted avg       0.66      0.67      0.65      1995\n",
      "\n"
     ]
    }
   ],
   "source": [
    "# Driver code\n",
    "def main():\n",
    "    # Building Phase\n",
    "    clf_gini = train_using_gini(xtrain,xtest,ytrain)\n",
    "    clf_entropy = train_using_entropy(xtrain,xtest,ytrain)\n",
    "    \n",
    "    # Operational Phase \n",
    "    print(\"Results Using Gini Index:\")\n",
    "    # Prediction using gini\n",
    "    y_pred_gini = prediction(xtest, clf_gini)\n",
    "    cal_accuracy(ytest, y_pred_gini)\n",
    "    print(\"Results Using Entropy:\")\n",
    "    # Prediction using entropy\n",
    "    y_pred_entropy = prediction(xtest, clf_entropy)\n",
    "    cal_accuracy(ytest, y_pred_entropy)\n",
    "    \n",
    "# Calling main function\n",
    "if __name__==\"__main__\":\n",
    "    main()"
   ]
  },
  {
   "cell_type": "markdown",
   "id": "5bff04de",
   "metadata": {},
   "source": [
    "# RANDOMFORESTCLASSIFIER\n"
   ]
  },
  {
   "cell_type": "code",
   "execution_count": 33,
   "id": "47596365",
   "metadata": {},
   "outputs": [
    {
     "name": "stdout",
     "output_type": "stream",
     "text": [
      "\n",
      "ACCURACY OF THE MODEL:  64.76190476190476\n"
     ]
    }
   ],
   "source": [
    "# creating a RF classifier\n",
    "clf = RandomForestClassifier(n_estimators = 100)  \n",
    "  \n",
    "# Training the model on the training dataset\n",
    "# fit function is used to train the model using the training sets as parameters\n",
    "clf.fit(xtrain,ytrain)\n",
    "  \n",
    "# performing predictions on the test dataset\n",
    "y_pred = clf.predict(xtest)\n",
    "  \n",
    "# metrics are used to find accuracy or error\n",
    "from sklearn import metrics  \n",
    "print()\n",
    "  \n",
    "# using metrics module for accuracy calculation\n",
    "print(\"ACCURACY OF THE MODEL: \", (metrics.accuracy_score(ytest, y_pred)*100))"
   ]
  },
  {
   "cell_type": "code",
   "execution_count": 34,
   "id": "a503f7dc",
   "metadata": {},
   "outputs": [
    {
     "data": {
      "text/plain": [
       "<sklearn.metrics._plot.confusion_matrix.ConfusionMatrixDisplay at 0x18399dd04c0>"
      ]
     },
     "execution_count": 34,
     "metadata": {},
     "output_type": "execute_result"
    },
    {
     "data": {
      "image/png": "[encoded data removed]",
      "text/plain": [
       "<Figure size 640x480 with 2 Axes>"
      ]
     },
     "metadata": {},
     "output_type": "display_data"
    }
   ],
   "source": [
    "from sklearn import metrics\n",
    "confusion_matrix = metrics.confusion_matrix(ytest, y_pred)\n",
    "\n",
    "cm_display = metrics.ConfusionMatrixDisplay(confusion_matrix = confusion_matrix, display_labels = [False, True])\n",
    "cm_display.plot()"
   ]
  },
  {
   "cell_type": "markdown",
   "id": "e8231ec0",
   "metadata": {},
   "source": [
    "# LOGISTIC REGRESSION"
   ]
  },
  {
   "cell_type": "code",
   "execution_count": 36,
   "id": "d42326a6",
   "metadata": {},
   "outputs": [],
   "source": [
    "from sklearn.linear_model import LogisticRegression\n",
    "from sklearn.metrics import confusion_matrix\n",
    "from sklearn.metrics import accuracy_score"
   ]
  },
  {
   "cell_type": "markdown",
   "id": "2edb1d2b",
   "metadata": {},
   "source": [
    "Now, it is very important to perform feature scaling here because Age and Estimated Salary values lie in different ranges. If we don’t scale the features then the Estimated Salary feature will dominate the Age feature when the model finds the nearest neighbor to a data point in the data space."
   ]
  },
  {
   "cell_type": "code",
   "execution_count": 37,
   "id": "91dfabd5",
   "metadata": {},
   "outputs": [],
   "source": [
    "from sklearn.preprocessing import StandardScaler\n",
    "sc_x = StandardScaler()\n",
    "xtrain = sc_x.fit_transform(xtrain) \n",
    "xtest = sc_x.transform(xtest)"
   ]
  },
  {
   "cell_type": "code",
   "execution_count": 38,
   "id": "919a49eb",
   "metadata": {},
   "outputs": [
    {
     "data": {
      "text/plain": [
       "LogisticRegression(random_state=0)"
      ]
     },
     "execution_count": 38,
     "metadata": {},
     "output_type": "execute_result"
    }
   ],
   "source": [
    "from sklearn.linear_model import LogisticRegression\n",
    "classifier = LogisticRegression(random_state = 0)\n",
    "classifier.fit(xtrain, ytrain)"
   ]
  },
  {
   "cell_type": "markdown",
   "id": "df9482de",
   "metadata": {},
   "source": [
    "After training the model, it is time to use it to do predictions on testing data. "
   ]
  },
  {
   "cell_type": "code",
   "execution_count": 39,
   "id": "eef2a0ce",
   "metadata": {},
   "outputs": [],
   "source": [
    "y_pred = classifier.predict(xtest)"
   ]
  },
  {
   "cell_type": "code",
   "execution_count": 40,
   "id": "e338d559",
   "metadata": {},
   "outputs": [
    {
     "name": "stdout",
     "output_type": "stream",
     "text": [
      "Confusion Matrix : \n",
      " [[1074  169]\n",
      " [ 566  186]]\n"
     ]
    }
   ],
   "source": [
    "from sklearn.metrics import confusion_matrix\n",
    "cm = confusion_matrix(ytest, y_pred)\n",
    "  \n",
    "print (\"Confusion Matrix : \\n\", cm)"
   ]
  },
  {
   "cell_type": "code",
   "execution_count": 41,
   "id": "b0762d5a",
   "metadata": {},
   "outputs": [
    {
     "name": "stdout",
     "output_type": "stream",
     "text": [
      "Accuracy :  63.1578947368421\n"
     ]
    }
   ],
   "source": [
    "from sklearn.metrics import accuracy_score\n",
    "print (\"Accuracy : \", (accuracy_score(ytest, y_pred))*100)"
   ]
  },
  {
   "cell_type": "markdown",
   "id": "3caddbb6",
   "metadata": {},
   "source": [
    "# KNN neigbour classifier\n"
   ]
  },
  {
   "cell_type": "code",
   "execution_count": 42,
   "id": "3485ffb0",
   "metadata": {},
   "outputs": [],
   "source": [
    "# Import necessary modules\n",
    "from sklearn.datasets import make_blobs\n",
    "from sklearn.neighbors import KNeighborsClassifier\n",
    "from sklearn.model_selection import train_test_split"
   ]
  },
  {
   "cell_type": "markdown",
   "id": "290b7f55",
   "metadata": {},
   "source": [
    "KNN Classifier Implementation\n",
    "After that, we’ll build a kNN classifier object. I develop two classifiers with k values of 1 and 5 to demonstrate the relevance of the k value. The models are then trained using a train set. The k value is chosen using the n_neighbors argument. It does not need to be explicitly specified because the default value is 5"
   ]
  },
  {
   "cell_type": "code",
   "execution_count": 43,
   "id": "16ec8942",
   "metadata": {},
   "outputs": [],
   "source": [
    "from sklearn.preprocessing import StandardScaler\n",
    "sc = StandardScaler()\n",
    "xtrain = sc.fit_transform(xtrain)\n",
    "xtest = sc.transform(xtest)"
   ]
  },
  {
   "cell_type": "markdown",
   "id": "27b8f436",
   "metadata": {},
   "source": [
    "Next, train the model with the help of KNeighborsClassifier class of sklearn as follows −"
   ]
  },
  {
   "cell_type": "code",
   "execution_count": 44,
   "id": "5df6e881",
   "metadata": {},
   "outputs": [
    {
     "data": {
      "text/plain": [
       "KNeighborsClassifier(n_neighbors=8)"
      ]
     },
     "execution_count": 44,
     "metadata": {},
     "output_type": "execute_result"
    }
   ],
   "source": [
    "from sklearn.neighbors import KNeighborsClassifier\n",
    "classifier = KNeighborsClassifier(n_neighbors = 8)\n",
    "classifier.fit(xtrain,ytrain)"
   ]
  },
  {
   "cell_type": "markdown",
   "id": "f5632c78",
   "metadata": {},
   "source": [
    "At last we need to make prediction. It can be done with the help of following script −"
   ]
  },
  {
   "cell_type": "code",
   "execution_count": 45,
   "id": "4a0e1109",
   "metadata": {},
   "outputs": [
    {
     "name": "stderr",
     "output_type": "stream",
     "text": [
      "C:\\Users\\hp\\anaconda3\\lib\\site-packages\\sklearn\\neighbors\\_classification.py:228: FutureWarning: Unlike other reduction functions (e.g. `skew`, `kurtosis`), the default behavior of `mode` typically preserves the axis it acts along. In SciPy 1.11.0, this behavior will change: the default value of `keepdims` will become False, the `axis` over which the statistic is taken will be eliminated, and the value None will no longer be accepted. Set `keepdims` to True or False to avoid this warning.\n",
      "  mode, _ = stats.mode(_y[neigh_ind, k], axis=1)\n"
     ]
    }
   ],
   "source": [
    "y_pred = classifier.predict(xtest)"
   ]
  },
  {
   "cell_type": "code",
   "execution_count": 46,
   "id": "1015bfd6",
   "metadata": {},
   "outputs": [
    {
     "name": "stdout",
     "output_type": "stream",
     "text": [
      "Confusion Matrix:\n",
      "[[1062  181]\n",
      " [ 589  163]]\n",
      "Classification Report:\n",
      "              precision    recall  f1-score   support\n",
      "\n",
      "           0       0.64      0.85      0.73      1243\n",
      "           1       0.47      0.22      0.30       752\n",
      "\n",
      "    accuracy                           0.61      1995\n",
      "   macro avg       0.56      0.54      0.52      1995\n",
      "weighted avg       0.58      0.61      0.57      1995\n",
      "\n",
      "Accuracy: 61.40350877192983\n"
     ]
    }
   ],
   "source": [
    "from sklearn.metrics import classification_report, confusion_matrix, accuracy_score\n",
    "\n",
    "result = confusion_matrix(ytest, y_pred)\n",
    "print(\"Confusion Matrix:\")\n",
    "print(result)\n",
    "\n",
    "result1 = classification_report(ytest, y_pred)\n",
    "print(\"Classification Report:\",)\n",
    "print (result1)\n",
    "\n",
    "result2 = accuracy_score(ytest,y_pred)\n",
    "print(\"Accuracy:\",result2*100)"
   ]
  },
  {
   "cell_type": "markdown",
   "id": "3d233e24",
   "metadata": {},
   "source": [
    "# Gradient boost classifier\n"
   ]
  },
  {
   "cell_type": "code",
   "execution_count": 47,
   "id": "0308ac7c",
   "metadata": {},
   "outputs": [
    {
     "data": {
      "text/plain": [
       "GradientBoostingClassifier()"
      ]
     },
     "execution_count": 47,
     "metadata": {},
     "output_type": "execute_result"
    }
   ],
   "source": [
    "from sklearn.ensemble import GradientBoostingClassifier\n",
    "\n",
    "gb = GradientBoostingClassifier(n_estimators = 100)\n",
    "gb"
   ]
  },
  {
   "cell_type": "code",
   "execution_count": 48,
   "id": "734be69f",
   "metadata": {},
   "outputs": [],
   "source": [
    "gb = gb.fit(xtrain,ytrain)"
   ]
  },
  {
   "cell_type": "code",
   "execution_count": 49,
   "id": "2d624e62",
   "metadata": {},
   "outputs": [
    {
     "name": "stdout",
     "output_type": "stream",
     "text": [
      "Training set score: 0.683\n",
      "Test set score: 0.666\n"
     ]
    }
   ],
   "source": [
    "print(\"Training set score: {:.3f}\".format(gb.score(xtrain,ytrain)))\n",
    "print(\"Test set score: {:.3f}\".format(gb.score(xtest,ytest)))"
   ]
  },
  {
   "cell_type": "code",
   "execution_count": 50,
   "id": "178bbee0",
   "metadata": {},
   "outputs": [],
   "source": [
    "pred_gb = gb.predict(xtest)"
   ]
  },
  {
   "cell_type": "code",
   "execution_count": 51,
   "id": "9e724f76",
   "metadata": {},
   "outputs": [
    {
     "name": "stdout",
     "output_type": "stream",
     "text": [
      "Confusion matrix:\n",
      "[[1042  201]\n",
      " [ 465  287]]\n"
     ]
    }
   ],
   "source": [
    "from sklearn.metrics import confusion_matrix\n",
    "confusion = confusion_matrix(ytest,pred_gb)\n",
    "print(\"Confusion matrix:\\n{}\".format(confusion))"
   ]
  },
  {
   "cell_type": "code",
   "execution_count": 52,
   "id": "a2b2c85b",
   "metadata": {},
   "outputs": [
    {
     "name": "stdout",
     "output_type": "stream",
     "text": [
      "GBC accuracy is 66.62\n"
     ]
    }
   ],
   "source": [
    "from sklearn.metrics import accuracy_score\n",
    "y_pred = gb.predict(xtest)\n",
    "print(\"GBC accuracy is %2.2f\" % ((accuracy_score(ytest,y_pred))*100))"
   ]
  },
  {
   "cell_type": "markdown",
   "id": "2e5fca5c",
   "metadata": {},
   "source": [
    "# Naive Bayes Classifier "
   ]
  },
  {
   "cell_type": "code",
   "execution_count": 53,
   "id": "b87da4a3",
   "metadata": {},
   "outputs": [
    {
     "data": {
      "text/plain": [
       "GaussianNB()"
      ]
     },
     "execution_count": 53,
     "metadata": {},
     "output_type": "execute_result"
    }
   ],
   "source": [
    "# train a Gaussian Naive Bayes classifier on the training set\n",
    "from sklearn.naive_bayes import GaussianNB\n",
    "\n",
    "# instantiate the model\n",
    "gnb = GaussianNB()\n",
    "\n",
    "# fit the model\n",
    "gnb.fit(xtrain,ytrain)"
   ]
  },
  {
   "cell_type": "code",
   "execution_count": 54,
   "id": "07da6f90",
   "metadata": {},
   "outputs": [],
   "source": [
    "#Predict reults\n",
    "ypred = gnb.predict(xtest)"
   ]
  },
  {
   "cell_type": "code",
   "execution_count": 55,
   "id": "d61eb287",
   "metadata": {},
   "outputs": [
    {
     "name": "stdout",
     "output_type": "stream",
     "text": [
      "Model accuracy score: 62.6065\n"
     ]
    }
   ],
   "source": [
    "from sklearn.metrics import accuracy_score\n",
    "print('Model accuracy score: {0:0.4f}'. format((accuracy_score(ytest,ypred)*100)))"
   ]
  },
  {
   "cell_type": "code",
   "execution_count": 56,
   "id": "511ac165",
   "metadata": {},
   "outputs": [
    {
     "name": "stdout",
     "output_type": "stream",
     "text": [
      "Confusion matrix\n",
      "\n",
      " [[1118  125]\n",
      " [ 621  131]]\n"
     ]
    }
   ],
   "source": [
    "# Print the Confusion Matrix and slice it into four pieces\n",
    "from sklearn.metrics import confusion_matrix\n",
    "cm = confusion_matrix(ytest, ypred)\n",
    "print('Confusion matrix\\n\\n', cm)"
   ]
  },
  {
   "cell_type": "markdown",
   "id": "9a36b635",
   "metadata": {},
   "source": [
    "# ACCURACY\n",
    "\n",
    "We have used multiple algorithms for training purposes like Decision Tree, Random Forest, SVC, Logistic Regression, XGB Regressor, etc.\n",
    "\n",
    "\n",
    "Accuracy of all 6 models are fo the current time is ,\n",
    "\n",
    "1) XGboost : Accuracy = 44.91 % \n",
    "\n",
    "2)\n",
    "Decisiontreeclassifier using gini : Accuracy = 66.56641604010025 %\n",
    "\n",
    "Decisiontreeclassifier using entropy : Accuracy = 66.9172932330827 %\n",
    "\n",
    "3) logistic regression : Accuracy = 65.26315789473685%\n",
    "\n",
    "4) random forest classifier(RFC): Accuracy = 65.1629072681704 %\n",
    "\n",
    "5) SVM: Accuracy = 64.8 %\n",
    "\n",
    "6) KNN Classifier: Accuracy = 60.70175438596491 %\n",
    "\n",
    "7) Gradient boostingclassifier(GBC) :Accuracy = 69 %\n",
    "\n",
    "8) Naive Bayes Classifier :Accuracy = 63.16 %\n",
    "\n",
    "\n",
    "DecisionTreeClassifier using entropy performs best on the validation data with an accuracy score of 66.9%"
   ]
  },
  {
   "cell_type": "markdown",
   "id": "83aa34bf",
   "metadata": {},
   "source": [
    "As we can see the model with highest accuracy are GBC,Decision tree using entropy,gini,logistic regression and so on.\n",
    "\n",
    "Now we have to classify whether our loan will be approved or rejected therefore we have to ot for model with HIGH PRECISION i.e., MINIMIZE FALSE POSITIVE.\n",
    "Now if we observe the false positive value from respective confusion matrix,\n",
    "\n",
    "We RANK model to according to their accuracy\n",
    "\n",
    "1) Gradient boostingclassifier(GBC) = 195\n",
    "2)\n",
    "Decisiontreeclassifier using entropy = 232\n",
    "Decisiontreeclassifier using gini = 245\n",
    "\n",
    "3) logistic regression = 141\n",
    "\n",
    "As we can observe ,Gradient boostingclassifier(GBC) not only has high precision also  has low false postive with respect to first 3 models.\n",
    "\n"
   ]
  },
  {
   "cell_type": "markdown",
   "id": "fe997ae3",
   "metadata": {},
   "source": [
    "Now creating an prediction model for loan aprroval/rejection \n",
    "Gradient boostingclassifier(GBC) "
   ]
  },
  {
   "cell_type": "markdown",
   "id": "380e9545",
   "metadata": {},
   "source": [
    "# Hyperparameter tuning of Gradient boosting algorithm using Python\n",
    "\n",
    "Finding The optimum number of trees in Gradient boosting\n",
    "\n",
    "Finding the optimum depth of trees in the Gradient boosting algorithm using Python\n",
    "\n",
    "Finding an optimum Learning rate in Gradient boosting algorithm using Python\n",
    "\n",
    "Finding an optimum number of features in the Gradient boosting algorithm using Python\n",
    "\n",
    "Finding the optimum number of samples in the Gradient boosting algorithm using Python\n",
    "\n",
    "GridSearchCV for Gradient boosting algorithm using Python"
   ]
  },
  {
   "cell_type": "markdown",
   "id": "120806d3",
   "metadata": {},
   "source": [
    "As we know there are various important parameters in the Gradient boosting algorithm that helps to get an optimum result. In this section, we will go through some of these parameters and will use a couple of methods to find the optimum values for these parameters."
   ]
  },
  {
   "cell_type": "markdown",
   "id": "78b46e76",
   "metadata": {},
   "source": [
    "# Finding The optimum number of trees in Gradient boosting"
   ]
  },
  {
   "cell_type": "code",
   "execution_count": 57,
   "id": "040aec70",
   "metadata": {},
   "outputs": [],
   "source": [
    "# importing all modules for Gradient boosting algorithm using Python\n",
    "from numpy import mean\n",
    "from sklearn.datasets import make_classification\n",
    "from sklearn.model_selection import cross_val_score\n",
    "from sklearn.model_selection import RepeatedStratifiedKFold\n",
    "from matplotlib import pyplot\n",
    "from sklearn.tree import DecisionTreeClassifier\n",
    "from numpy import arange\n",
    "from sklearn.model_selection import GridSearchCV"
   ]
  },
  {
   "cell_type": "markdown",
   "id": "54184257",
   "metadata": {},
   "source": [
    "The next step: Initialize the model with multiple iterations.\n",
    "Here iterations simply mean the number of trees or weak learners.\n",
    "Because in each iteration, the model creates a weak learner. We will create a user-defined function that will return multiple models with different numbers of iterations."
   ]
  },
  {
   "cell_type": "code",
   "execution_count": 58,
   "id": "5efecd60",
   "metadata": {},
   "outputs": [],
   "source": [
    "# fuction to create models\n",
    "def build_models():\n",
    "    \n",
    "#dic of models\n",
    "    GB_models = dict()\n",
    "    \n",
    "    # number of decision stumps\n",
    "    decision_stump= [10, 50, 100, 500, 1000]\n",
    "        \n",
    "#    using for loop to iterate though trees\n",
    "    for i in decision_stump:\n",
    "        \n",
    "#         building model with specified trees\n",
    "        GB_models[str(i)] = GradientBoostingClassifier(n_estimators=i)\n",
    "    \n",
    "#     returning the model\n",
    "    return GB_models"
   ]
  },
  {
   "cell_type": "markdown",
   "id": "4232ba4d",
   "metadata": {},
   "source": [
    "As you can see, the above model returns a dictionary of models with different iteration values starting from 10 to 1000.\n",
    "\n",
    "Next, we will create a function for the evaluation of the models that we have created above. We will use the same function for the evaluation of models while finding other parameters as well."
   ]
  },
  {
   "cell_type": "code",
   "execution_count": 59,
   "id": "c6862e24",
   "metadata": {},
   "outputs": [],
   "source": [
    "# function for the validation of model\n",
    "def evaluate_model(model, Input, Ouput):\n",
    "    \n",
    "    # defining the method of validation\n",
    "    cv = RepeatedStratifiedKFold(n_splits=10, n_repeats=3)\n",
    "    \n",
    "    \n",
    "    # validating the model based on the accurasy score\n",
    "    accuracy = cross_val_score(model, Input, Ouput, scoring='accuracy', cv=cv, n_jobs=-1)\n",
    "    \n",
    "#     returning the accuracy score\n",
    "    return accuracy"
   ]
  },
  {
   "cell_type": "markdown",
   "id": "7f8dc65d",
   "metadata": {},
   "source": [
    "As you can see, the above function evaluates the model based on the accuracy core and it uses the cross-validation method.\n",
    "\n",
    "Now, it is time to call these functions and print out the optimum number of iterations."
   ]
  },
  {
   "cell_type": "code",
   "execution_count": 60,
   "id": "87b19234",
   "metadata": {},
   "outputs": [
    {
     "name": "stdout",
     "output_type": "stream",
     "text": [
      "---->Iterations (10)---Accuracy( 0.66293)\n",
      "---->Iterations (50)---Accuracy( 0.66880)\n",
      "---->Iterations (100)---Accuracy( 0.66945)\n",
      "---->Iterations (500)---Accuracy( 0.66080)\n",
      "---->Iterations (1000)---Accuracy( 0.65241)\n"
     ]
    }
   ],
   "source": [
    "# calling the build_models function\n",
    "models = build_models()\n",
    "# creating list\n",
    "results, names = list(), list()\n",
    "# using for loop to iterate thoug the models\n",
    "for name, model in models.items():\n",
    "    \n",
    "    # calling the validation function\n",
    "    scores = evaluate_model(model,x,y)\n",
    "    \n",
    "    \n",
    "    # appending the accuray socres in results\n",
    "    results.append(scores)\n",
    "    names.append(name)\n",
    "    \n",
    "    \n",
    "    # printing - Gradient boosting algorithm using Python\n",
    "    print('---->Iterations (%s)---Accuracy( %.5f)' % (name, mean(scores)))"
   ]
  },
  {
   "cell_type": "markdown",
   "id": "d2e0adbb",
   "metadata": {},
   "source": [
    "As you can see, the accuracy increases to 100 iterations and then again starts to decrease. So, we can say that the optimum number of iterations of the Gradient boosting model on our dataset is 100"
   ]
  },
  {
   "cell_type": "markdown",
   "id": "7060520e",
   "metadata": {},
   "source": [
    "# Finding the optimum depth of trees in the Gradient boosting algorithm using Python"
   ]
  },
  {
   "cell_type": "markdown",
   "id": "f10c3ec0",
   "metadata": {},
   "source": [
    "As we know that the Gradient boosting algorithm uses decision trees as weak learners and it is important to find the optimum depth of these weak learners. Let us create a function with various depth values of trees."
   ]
  },
  {
   "cell_type": "code",
   "execution_count": 61,
   "id": "ef480283",
   "metadata": {},
   "outputs": [],
   "source": [
    "# building function for the model\n",
    "def build_models():\n",
    "    \n",
    "#     creating dic of models\n",
    "    GB_models = dict()\n",
    "    \n",
    "#     specifying the depth of trees\n",
    "    for i in range(1,12):\n",
    "        \n",
    "#         appending the models\n",
    "        GB_models[str(i)] = GradientBoostingClassifier(max_depth=i)\n",
    "        \n",
    "#   returining the model\n",
    "    return GB_models"
   ]
  },
  {
   "cell_type": "markdown",
   "id": "67b37e9a",
   "metadata": {},
   "source": [
    "We will use the evaluation function that we have created in the above section. So let us now call the building model and evaluation functions to get the optimum depth of decision trees.\n"
   ]
  },
  {
   "cell_type": "code",
   "execution_count": 62,
   "id": "5b37d033",
   "metadata": {},
   "outputs": [
    {
     "name": "stdout",
     "output_type": "stream",
     "text": [
      "---->Decision tree depth (1)---Accuracy( 0.66777)\n",
      "---->Decision tree depth (2)---Accuracy( 0.66847)\n",
      "---->Decision tree depth (3)---Accuracy( 0.66880)\n",
      "---->Decision tree depth (4)---Accuracy( 0.66556)\n",
      "---->Decision tree depth (5)---Accuracy( 0.66373)\n",
      "---->Decision tree depth (6)---Accuracy( 0.65950)\n",
      "---->Decision tree depth (7)---Accuracy( 0.65306)\n",
      "---->Decision tree depth (8)---Accuracy( 0.64952)\n",
      "---->Decision tree depth (9)---Accuracy( 0.64363)\n",
      "---->Decision tree depth (10)---Accuracy( 0.64188)\n",
      "---->Decision tree depth (11)---Accuracy( 0.63694)\n"
     ]
    }
   ],
   "source": [
    "# calling the function\n",
    "models = build_models()\n",
    "# creating lists \n",
    "results, names = list(), list()\n",
    "# iterating through the models\n",
    "for name, model in models.items():\n",
    "    \n",
    "    # calling the evalution function\n",
    "    accuracy = evaluate_model(model,x,y)\n",
    "    \n",
    "    # appending the results\n",
    "    results.append(accuracy)\n",
    "    names.append(name)\n",
    "    \n",
    "#     printing - Gradient boosting algorithm using Python\n",
    "    print('---->Decision tree depth (%s)---Accuracy( %.5f)' % (name, mean(accuracy)))"
   ]
  },
  {
   "cell_type": "markdown",
   "id": "621d8228",
   "metadata": {},
   "source": [
    "As you can see, we get an optimum accuracy score when the depth of decision trees was 4."
   ]
  },
  {
   "cell_type": "markdown",
   "id": "cd92dc95",
   "metadata": {},
   "source": [
    "# Finding an optimum Learning rate in Gradient boosting algorithm using Python"
   ]
  },
  {
   "cell_type": "markdown",
   "id": "a286c9d3",
   "metadata": {},
   "source": [
    "The learning rate determines the step sizes in each of the iterations. It is also one of the important parameters that have a high impact on the results of the model. Let us now create a function that will build multiple models with different learning rates"
   ]
  },
  {
   "cell_type": "code",
   "execution_count": 63,
   "id": "b2bf55c3",
   "metadata": {},
   "outputs": [],
   "source": [
    "# creating function\n",
    "def build_models():\n",
    "    \n",
    "#     creating dic of models\n",
    "    GB_models = dict()\n",
    "    \n",
    "#     different learning rates\n",
    "    for i in [0.0001, 0.001, 0.01, 0.1, 1.0]:\n",
    "        \n",
    "#         key value\n",
    "        k = '%.4f' % i\n",
    "    \n",
    "#     appending the models\n",
    "        GB_models[k] = GradientBoostingClassifier(learning_rate=i)\n",
    "    return GB_models"
   ]
  },
  {
   "cell_type": "markdown",
   "id": "ed3d82af",
   "metadata": {},
   "source": [
    "Now, we will call this function to create multiple models, and then we will call the evaluation function to evaluate the performance of each of the models with different learning rates."
   ]
  },
  {
   "cell_type": "code",
   "execution_count": 64,
   "id": "df949464",
   "metadata": {},
   "outputs": [
    {
     "name": "stdout",
     "output_type": "stream",
     "text": [
      "---->Learning Rate(0.0001)---Accuracy( 0.62283)\n",
      "---->Learning Rate(0.0010)---Accuracy( 0.62283)\n",
      "---->Learning Rate(0.0100)---Accuracy( 0.66381)\n",
      "---->Learning Rate(0.1000)---Accuracy( 0.66877)\n",
      "---->Learning Rate(1.0000)---Accuracy( 0.63080)\n"
     ]
    }
   ],
   "source": [
    "# calling the function\n",
    "models = build_models()\n",
    "# creating the list\n",
    "results, names = list(), list()\n",
    "# for loop to iterate through the models\n",
    "for name, model in models.items():\n",
    "    \n",
    "    \n",
    "    # calling the evaluting function\n",
    "    accuracy = evaluate_model(model,x,y)\n",
    "    \n",
    "#     storing the accurcy\n",
    "    results.append(accuracy)\n",
    "    names.append(name)\n",
    "    \n",
    "#     printing learning rate of Gradient boosting algorithm using Python\n",
    "    print('---->Learning Rate(%s)---Accuracy( %.5f)' % (name, mean(accuracy)))"
   ]
  },
  {
   "cell_type": "markdown",
   "id": "e14fa80f",
   "metadata": {},
   "source": [
    "As you can see, we get the highest accuracy score when the learning rate was 0.1. Let us also plot the mean accuracy on the box plot as well."
   ]
  },
  {
   "cell_type": "markdown",
   "id": "f6a61b30",
   "metadata": {},
   "source": [
    "# Finding an optimum number of features in the Gradient boosting algorithm using Python"
   ]
  },
  {
   "cell_type": "markdown",
   "id": "62acb071",
   "metadata": {},
   "source": [
    "Each decision tree can have a different amount of attributes that are utilized to suit it.\n",
    "Similar to modifying the sample size, changing the number of features gives more variance to the model, which may enhance performance. Let us create a function that will return multiple models with a different number of input features. In our case, we can use at most 4 features as our dataset has 4 input features ( you can adjust the range depending on your dataset)."
   ]
  },
  {
   "cell_type": "code",
   "execution_count": 65,
   "id": "8891edd7",
   "metadata": {},
   "outputs": [],
   "source": [
    "# creating the function \n",
    "def build_models():\n",
    "    \n",
    "#     creating dic of models\n",
    "    GB_models = dict()\n",
    "    \n",
    "    # explore features numbers from 1-4\n",
    "    for i in range(1,5):\n",
    "        \n",
    "#         appending the models\n",
    "        GB_models[str(i)] = GradientBoostingClassifier(max_features=i)\n",
    "    \n",
    "#     returining the models\n",
    "    return GB_models"
   ]
  },
  {
   "cell_type": "markdown",
   "id": "2c7b5089",
   "metadata": {},
   "source": [
    "Now, we will call this function and the evaluation function to get the optimum number of features."
   ]
  },
  {
   "cell_type": "code",
   "execution_count": 66,
   "id": "cc15aa45",
   "metadata": {},
   "outputs": [
    {
     "name": "stdout",
     "output_type": "stream",
     "text": [
      "---->Features(1)---Accuracy( 0.65306)\n",
      "---->Features(2)---Accuracy( 0.66744)\n",
      "---->Features(3)---Accuracy( 0.66915)\n",
      "---->Features(4)---Accuracy( 0.67013)\n"
     ]
    }
   ],
   "source": [
    "# calling the function\n",
    "models = build_models()\n",
    "# creating the list\n",
    "results, names = list(), list()\n",
    "# for loop to iterate through the models\n",
    "for name, model in models.items():\n",
    "    \n",
    "    \n",
    "    # calling the evaluting function\n",
    "    accuracy = evaluate_model(model,x,y)\n",
    "    \n",
    "#     storing the accurcy\n",
    "    results.append(accuracy)\n",
    "    names.append(name)\n",
    "    \n",
    "#     printing features of Gradient boosting algorithm using Python\n",
    "    print('---->Features(%s)---Accuracy( %.5f)' % (name, mean(accuracy)))"
   ]
  },
  {
   "cell_type": "markdown",
   "id": "fd019883",
   "metadata": {},
   "source": [
    "As you can see, the optimum number of features is 3, as we get high accuracy score for it"
   ]
  },
  {
   "cell_type": "markdown",
   "id": "784388da",
   "metadata": {},
   "source": [
    "# Finding the optimum number of samples in the Gradient boosting algorithm using Python"
   ]
  },
  {
   "cell_type": "markdown",
   "id": "d8eed53b",
   "metadata": {},
   "source": [
    "You can change how many samples were used to fit each tree. This indicates that a randomly chosen portion of the training dataset is used to fit each tree. Using fewer samples introduces more variance for each tree, although it can improve the overall performance of the model. Let us now create a function that returns multiple models with different sample values."
   ]
  },
  {
   "cell_type": "code",
   "execution_count": 67,
   "id": "84e05661",
   "metadata": {},
   "outputs": [],
   "source": [
    "# creating the function\n",
    "def build_models():\n",
    "    \n",
    "#     dic of models\n",
    "    GB_models = dict()\n",
    "    \n",
    "#     exploring different sample values\n",
    "    for i in arange(0.1, 1.1, 0.1):\n",
    "        \n",
    "#         key value\n",
    "        k = '%.1f' % i\n",
    "    \n",
    "#     appending the model\n",
    "        GB_models[k] = GradientBoostingClassifier(subsample=i)\n",
    "    return GB_models"
   ]
  },
  {
   "cell_type": "markdown",
   "id": "c37b498b",
   "metadata": {},
   "source": [
    "Let us now call the above function and the evaluation function."
   ]
  },
  {
   "cell_type": "code",
   "execution_count": 68,
   "id": "43a9856d",
   "metadata": {},
   "outputs": [
    {
     "name": "stdout",
     "output_type": "stream",
     "text": [
      "---->Samples(0.1)---Accuracy( 0.66040)\n",
      "---->Samples(0.2)---Accuracy( 0.66454)\n",
      "---->Samples(0.3)---Accuracy( 0.66887)\n",
      "---->Samples(0.4)---Accuracy( 0.66757)\n",
      "---->Samples(0.5)---Accuracy( 0.66887)\n",
      "---->Samples(0.6)---Accuracy( 0.66882)\n",
      "---->Samples(0.7)---Accuracy( 0.66857)\n",
      "---->Samples(0.8)---Accuracy( 0.66927)\n",
      "---->Samples(0.9)---Accuracy( 0.66900)\n",
      "---->Samples(1.0)---Accuracy( 0.66945)\n"
     ]
    }
   ],
   "source": [
    "# calling the function\n",
    "models = build_models()\n",
    "# creating the list\n",
    "results, names = list(), list()\n",
    "# for loop to iterate through the models\n",
    "for name, model in models.items():\n",
    "    \n",
    "    \n",
    "    # calling the evaluting function\n",
    "    accuracy = evaluate_model(model,x,y)\n",
    "    \n",
    "#     storing the accurcy\n",
    "    results.append(accuracy)\n",
    "    names.append(name)\n",
    "    \n",
    "#     printing sampes for Gradient boosting algorithm using Python\n",
    "    print('---->Samples(%s)---Accuracy( %.5f)' % (name, mean(accuracy)))"
   ]
  },
  {
   "cell_type": "markdown",
   "id": "73910377",
   "metadata": {},
   "source": [
    "As you can see, we get different accuracy scores for each of the sample sizes but the optimum score is when the sample size is 0.9. "
   ]
  },
  {
   "cell_type": "markdown",
   "id": "d925aa69",
   "metadata": {},
   "source": [
    "# Now creating an prediction model ,the Gradient boosting classifier using these best parameters for aprroval/rejection of loan"
   ]
  },
  {
   "cell_type": "code",
   "execution_count": 72,
   "id": "7037ca11",
   "metadata": {},
   "outputs": [
    {
     "data": {
      "text/plain": [
       "GradientBoostingClassifier(max_depth=2, max_features=4, n_estimators=50)"
      ]
     },
     "execution_count": 72,
     "metadata": {},
     "output_type": "execute_result"
    }
   ],
   "source": [
    "from sklearn.ensemble import GradientBoostingClassifier\n",
    "gb = GradientBoostingClassifier(learning_rate=0.1,n_estimators = 50, subsample=1.0,max_depth=2,max_features=4)\n",
    "gb"
   ]
  },
  {
   "cell_type": "code",
   "execution_count": 73,
   "id": "03e33231",
   "metadata": {},
   "outputs": [],
   "source": [
    "gb = gb.fit(xtrain,ytrain)"
   ]
  },
  {
   "cell_type": "code",
   "execution_count": 74,
   "id": "f89bed2d",
   "metadata": {},
   "outputs": [
    {
     "name": "stdout",
     "output_type": "stream",
     "text": [
      "Training set score: 0.666\n",
      "Test set score: 0.649\n"
     ]
    }
   ],
   "source": [
    "print(\"Training set score: {:.3f}\".format(gb.score(xtrain,ytrain)))\n",
    "print(\"Test set score: {:.3f}\".format(gb.score(xtest,ytest)))"
   ]
  },
  {
   "cell_type": "code",
   "execution_count": 75,
   "id": "504511f3",
   "metadata": {},
   "outputs": [],
   "source": [
    "pred_gb = gb.predict(xtest)"
   ]
  },
  {
   "cell_type": "code",
   "execution_count": 76,
   "id": "1a0618fc",
   "metadata": {},
   "outputs": [
    {
     "name": "stdout",
     "output_type": "stream",
     "text": [
      "Confusion matrix:\n",
      "[[1056  187]\n",
      " [ 513  239]]\n"
     ]
    }
   ],
   "source": [
    "from sklearn.metrics import confusion_matrix\n",
    "confusion = confusion_matrix(ytest,pred_gb)\n",
    "print(\"Confusion matrix:\\n{}\".format(confusion))"
   ]
  },
  {
   "cell_type": "code",
   "execution_count": 77,
   "id": "8e923ae7",
   "metadata": {},
   "outputs": [
    {
     "name": "stdout",
     "output_type": "stream",
     "text": [
      "GBC accuracy is 64.91\n"
     ]
    }
   ],
   "source": [
    "from sklearn.metrics import accuracy_score\n",
    "y_pred = gb.predict(xtest)\n",
    "print(\"GBC accuracy is %2.2f\" % ((accuracy_score(ytest,y_pred))*100))"
   ]
  },
  {
   "cell_type": "code",
   "execution_count": null,
   "id": "82b10a04",
   "metadata": {},
   "outputs": [],
   "source": []
  }
 ],
 "metadata": {
  "kernelspec": {
   "display_name": "Python 3 (ipykernel)",
   "language": "python",
   "name": "python3"
  },
  "language_info": {
   "codemirror_mode": {
    "name": "ipython",
    "version": 3
   },
   "file_extension": ".py",
   "mimetype": "text/x-python",
   "name": "python",
   "nbconvert_exporter": "python",
   "pygments_lexer": "ipython3",
   "version": "3.10.9"
  }
 },
 "nbformat": 4,
 "nbformat_minor": 5
}
